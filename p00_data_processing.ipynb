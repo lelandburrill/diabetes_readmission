{
 "cells": [
  {
   "cell_type": "code",
   "execution_count": 1,
   "id": "727f57cc-aa11-40b4-8a13-4bef83a66082",
   "metadata": {
    "execution": {
     "iopub.execute_input": "2025-03-17T16:30:14.515204Z",
     "iopub.status.busy": "2025-03-17T16:30:14.514580Z",
     "iopub.status.idle": "2025-03-17T16:30:14.517968Z",
     "shell.execute_reply": "2025-03-17T16:30:14.517289Z",
     "shell.execute_reply.started": "2025-03-17T16:30:14.515185Z"
    }
   },
   "outputs": [],
   "source": [
    "\n",
    "import pandas as pd\n",
    "import numpy as np\n",
    "pd.set_option('display.max_info_columns', 200)"
   ]
  },
  {
   "cell_type": "code",
   "execution_count": 2,
   "id": "dc777935-7ed3-4b75-b1ea-1de2995eee08",
   "metadata": {
    "editable": true,
    "execution": {
     "iopub.execute_input": "2025-03-17T16:30:14.519674Z",
     "iopub.status.busy": "2025-03-17T16:30:14.519415Z",
     "iopub.status.idle": "2025-03-17T16:30:15.072594Z",
     "shell.execute_reply": "2025-03-17T16:30:15.071919Z",
     "shell.execute_reply.started": "2025-03-17T16:30:14.519657Z"
    },
    "slideshow": {
     "slide_type": ""
    },
    "tags": []
   },
   "outputs": [
    {
     "name": "stdout",
     "output_type": "stream",
     "text": [
      "(101766, 50)\n",
      "Index(['encounter_id', 'patient_nbr', 'race', 'gender', 'age', 'weight',\n",
      "       'admission_type_id', 'discharge_disposition_id', 'admission_source_id',\n",
      "       'time_in_hospital', 'payer_code', 'medical_specialty',\n",
      "       'num_lab_procedures', 'num_procedures', 'num_medications',\n",
      "       'number_outpatient', 'number_emergency', 'number_inpatient', 'diag_1',\n",
      "       'diag_2', 'diag_3', 'number_diagnoses', 'max_glu_serum', 'A1Cresult',\n",
      "       'metformin', 'repaglinide', 'nateglinide', 'chlorpropamide',\n",
      "       'glimepiride', 'acetohexamide', 'glipizide', 'glyburide', 'tolbutamide',\n",
      "       'pioglitazone', 'rosiglitazone', 'acarbose', 'miglitol', 'troglitazone',\n",
      "       'tolazamide', 'examide', 'citoglipton', 'insulin',\n",
      "       'glyburide-metformin', 'glipizide-metformin',\n",
      "       'glimepiride-pioglitazone', 'metformin-rosiglitazone',\n",
      "       'metformin-pioglitazone', 'change', 'diabetesMed', 'readmitted'],\n",
      "      dtype='object')\n"
     ]
    }
   ],
   "source": [
    "\n",
    "# https://archive.ics.uci.edu/dataset/296/diabetes+130-us+hospitals+for+years+1999-2008\n",
    "diabetes=pd.read_csv('diabetic_data.csv')\n",
    "\n",
    "print(diabetes.shape)\n",
    "print(diabetes.columns)"
   ]
  },
  {
   "cell_type": "code",
   "execution_count": 3,
   "id": "c5ceae3b-df96-4164-a98a-f3ca34499fb8",
   "metadata": {
    "execution": {
     "iopub.execute_input": "2025-03-17T16:30:15.093834Z",
     "iopub.status.busy": "2025-03-17T16:30:15.093576Z",
     "iopub.status.idle": "2025-03-17T16:30:15.097118Z",
     "shell.execute_reply": "2025-03-17T16:30:15.096356Z",
     "shell.execute_reply.started": "2025-03-17T16:30:15.093816Z"
    }
   },
   "outputs": [],
   "source": [
    "\n",
    "#dropping features considered in exploratory work (separate ipynb files)\n",
    "drop=['race', 'weight', 'medical_specialty', 'max_glu_serum']"
   ]
  },
  {
   "cell_type": "code",
   "execution_count": 4,
   "id": "2797c27d-881a-4e6a-8e87-2196f82c57b4",
   "metadata": {
    "execution": {
     "iopub.execute_input": "2025-03-17T16:30:15.112576Z",
     "iopub.status.busy": "2025-03-17T16:30:15.112290Z",
     "iopub.status.idle": "2025-03-17T16:30:15.126276Z",
     "shell.execute_reply": "2025-03-17T16:30:15.125572Z",
     "shell.execute_reply.started": "2025-03-17T16:30:15.112558Z"
    }
   },
   "outputs": [],
   "source": [
    "\n",
    "admission_type_id = { 1 : 'Emergency'\n",
    ", 2 : 'Urgent'\n",
    ", 3 : 'Elective'\n",
    ", 4 : 'Newborn'\n",
    ", 5 : 'Not Available'\n",
    ", 6 : 'NULL'\n",
    ", 7 : 'Trauma Center'\n",
    ", 8 : 'Not Mapped' }"
   ]
  },
  {
   "cell_type": "code",
   "execution_count": 5,
   "id": "994b6383-fe89-413a-9540-ba3c5521641e",
   "metadata": {
    "execution": {
     "iopub.execute_input": "2025-03-17T16:30:15.141577Z",
     "iopub.status.busy": "2025-03-17T16:30:15.141110Z",
     "iopub.status.idle": "2025-03-17T16:30:15.152409Z",
     "shell.execute_reply": "2025-03-17T16:30:15.151751Z",
     "shell.execute_reply.started": "2025-03-17T16:30:15.141558Z"
    }
   },
   "outputs": [],
   "source": [
    "\n",
    "discharge_disposition_id = { 1 : 'Discharged to home'\n",
    ", 2 : 'Discharged/transferred to another short term hospital'\n",
    ", 3 : 'Discharged/transferred to SNF'\n",
    ", 4 : 'Discharged/transferred to ICF'\n",
    ", 5 : 'Discharged/transferred to another type of inpatient care institution'\n",
    ", 6 : 'Discharged/transferred to home with home health service'\n",
    ", 7 : 'Left AMA'\n",
    ", 8 : 'Discharged/transferred to home under care of Home IV provider'\n",
    ", 9 : 'Admitted as an inpatient to this hospital'\n",
    ", 10 : 'Neonate discharged to another hospital for neonatal aftercare'\n",
    ", 11 : 'Expired'\n",
    ", 12 : 'Still patient or expected to return for outpatient services'\n",
    ", 13 : 'Hospice / home'\n",
    ", 14 : 'Hospice / medical facility'\n",
    ", 15 : 'Discharged/transferred within this institution to Medicare approved swing bed'\n",
    ", 16 : 'Discharged/transferred/referred another institution for outpatient services'\n",
    ", 17 : 'Discharged/transferred/referred to this institution for outpatient services'\n",
    ", 18 : 'NULL'\n",
    ", 19 : 'Expired at home. Medicaid only, hospice'\n",
    ", 20 : 'Expired in a medical facility. Medicaid only, hospice'\n",
    ", 21 : 'Expired, place unknown. Medicaid only, hospice'\n",
    ", 22 : 'Discharged/transferred to another rehab fac including rehab units of a hospital'\n",
    ", 23 : 'Discharged/transferred to a long term care hospital'\n",
    ", 24 : 'Discharged/transferred to a nursing facility certified under Medicaid but not certified under Medicare'\n",
    ", 25 : 'Not Mapped'\n",
    ", 26 : 'Unknown/Invalid'\n",
    ", 30 : 'Discharged/transferred to another Type of Health Care Institution not Defined Elsewhere'\n",
    ", 27 : 'Discharged/transferred to a federal health care facility'\n",
    ", 28 : 'Discharged/transferred/referred to a psychiatric hospital of psychiatric distinct part unit of a hospital'\n",
    ", 29 : 'Discharged/transferred to a Critical Access Hospital (CAH)' }"
   ]
  },
  {
   "cell_type": "code",
   "execution_count": 6,
   "id": "a741f62f-752d-437e-836a-13c68e8708be",
   "metadata": {
    "execution": {
     "iopub.execute_input": "2025-03-17T16:30:15.169631Z",
     "iopub.status.busy": "2025-03-17T16:30:15.169390Z",
     "iopub.status.idle": "2025-03-17T16:30:15.178705Z",
     "shell.execute_reply": "2025-03-17T16:30:15.177964Z",
     "shell.execute_reply.started": "2025-03-17T16:30:15.169614Z"
    }
   },
   "outputs": [],
   "source": [
    "\n",
    "admission_source_id = { 1 : 'Physician Referral'\n",
    ", 2 : 'Clinic Referral'\n",
    ", 3 : 'HMO Referral'\n",
    ", 4 : 'Transfer from a hospital'\n",
    ", 5 : 'Transfer from a Skilled Nursing Facility (SNF)'\n",
    ", 6 : 'Transfer from another health care facility'\n",
    ", 7 : 'Emergency Room'\n",
    ", 8 : 'Court/Law Enforcement'\n",
    ", 9 :  'Not Available'\n",
    ", 10 : 'Transfer from critial access hospital'\n",
    ", 11 : 'Normal Delivery'\n",
    ", 12 : 'Premature Delivery'\n",
    ", 13 : 'Sick Baby'\n",
    ", 14 : 'Extramural Birth'\n",
    ", 15 : 'Not Available'\n",
    ", 17 : 'NULL'\n",
    ", 18 : 'Transfer From Another Home Health Agency'\n",
    ", 19 : 'Readmission to Same Home Health Agency'\n",
    ", 20 : 'Not Mapped'\n",
    ", 21 : 'Unknown/Invalid'\n",
    ", 22 : 'Transfer from hospital inpt/same fac reslt in a sep claim'\n",
    ", 23 : 'Born inside this hospital'\n",
    ", 24 : 'Born outside this hospital'\n",
    ", 25 : 'Transfer from Ambulatory Surgery Center'\n",
    ", 26 : 'Transfer from Hospice'\n",
    "                      }"
   ]
  },
  {
   "cell_type": "raw",
   "id": "2c6fbd4a-357b-451b-a302-0d60b1341ee5",
   "metadata": {},
   "source": [
    "\n",
    "death_disposition_id = {  11 : 'Expired'\n",
    ", 13 : 'Hospice / home'\n",
    ", 14 : 'Hospice / medical facility'\n",
    ", 19 : 'Expired at home. Medicaid only, hospice'\n",
    ", 20 : 'Expired in a medical facility. Medicaid only, hospice'\n",
    ", 21 : 'Expired, place unknown. Medicaid only, hospice'\n",
    " }"
   ]
  },
  {
   "cell_type": "code",
   "execution_count": 7,
   "id": "600ae31b-7040-4b86-8e12-400096ac00af",
   "metadata": {
    "execution": {
     "iopub.execute_input": "2025-03-17T16:30:15.203716Z",
     "iopub.status.busy": "2025-03-17T16:30:15.203438Z",
     "iopub.status.idle": "2025-03-17T16:30:15.212446Z",
     "shell.execute_reply": "2025-03-17T16:30:15.211750Z",
     "shell.execute_reply.started": "2025-03-17T16:30:15.203690Z"
    }
   },
   "outputs": [],
   "source": [
    "\n",
    "diabetes['expiration_ind'] = diabetes['discharge_disposition_id'].isin([11,13,14,19,20,21]).astype('int')"
   ]
  },
  {
   "cell_type": "code",
   "execution_count": 8,
   "id": "19a2878c-b16a-414c-b4a9-1dc0c1b9a4f0",
   "metadata": {
    "execution": {
     "iopub.execute_input": "2025-03-17T16:30:15.227821Z",
     "iopub.status.busy": "2025-03-17T16:30:15.227379Z",
     "iopub.status.idle": "2025-03-17T16:30:15.327431Z",
     "shell.execute_reply": "2025-03-17T16:30:15.326789Z",
     "shell.execute_reply.started": "2025-03-17T16:30:15.227801Z"
    }
   },
   "outputs": [],
   "source": [
    "\n",
    "#install values from lookup dictionaries\n",
    "diabetes['admission_type'] = diabetes['admission_type_id'].map(admission_type_id)\n",
    "diabetes['discharge_disposition'] = diabetes['discharge_disposition_id'].map(discharge_disposition_id)\n",
    "diabetes['admission_source'] = diabetes['admission_source_id'].map(admission_source_id)\n",
    "\n",
    "diabetes['MP_DM_payer_ind'] = ((diabetes['payer_code'] == 'MP') | \n",
    "                               (diabetes['payer_code'] == 'DM')).astype(int)\n",
    "\n",
    "del admission_type_id\n",
    "del discharge_disposition_id \n",
    "del admission_source_id\n",
    "\n",
    "diabetes['admission_grp_1_ind'] = ( diabetes['admission_type'].isin(['NULL','Emergency'])).astype(int)\n",
    "diabetes['admission_grp_2_ind'] = ( diabetes['admission_type'].isin(['Elective','Not Mapped'])).astype(int)\n",
    "\n",
    "diabetes['discharge_grp_1_ind'] = ( diabetes['discharge_disposition'].isin(['Discharged/transferred to a long term care hospital'\n",
    "                                                                           ,'NULL'\n",
    "                                                                           ,'Discharged to home'])).astype(int)\n",
    "\n",
    "diabetes['discharge_grp_2_ind'] = ( diabetes['discharge_disposition'].isin(['Left AMA'\n",
    "                                                                            ,'Discharged/transferred to another type of inpatient care institution'\n",
    "                                                                            ,'Discharged/transferred to SNF'\n",
    "                                                                            ,'Discharged/transferred to home with home health service'\n",
    "                                                                            ,'Discharged/transferred to another rehab fac including rehab units of a hospital'])).astype(int)\n",
    "\n",
    "diabetes['admission_type_ind'] = ( diabetes['admission_source'].isin(['Clinic Referral'\n",
    "                                                                     ,'Transfer from a hospital'\n",
    "                                                                     ,'Transfer from another health care facility'])).astype(int)\n",
    "\n",
    "diabetes['mb_admission_grp_1_ct'] = diabetes.groupby('patient_nbr')['admission_grp_1_ind'].transform('sum')\n",
    "diabetes['mb_admission_grp_2_ct'] = diabetes.groupby('patient_nbr')['admission_grp_2_ind'].transform('sum')\n",
    "diabetes['mb_discharge_grp_1_ct'] = diabetes.groupby('patient_nbr')['discharge_grp_1_ind'].transform('sum')\n",
    "diabetes['mb_discharge_grp_2_ct'] = diabetes.groupby('patient_nbr')['discharge_grp_2_ind'].transform('sum')\n",
    "diabetes['mb_admission_type_ct']  = diabetes.groupby('patient_nbr')['admission_type_ind'].transform('sum')\n",
    "\n",
    "drop.extend(['payer_code', 'admission_type_id', 'discharge_disposition_id', 'admission_source_id'])\n",
    "drop.extend(['admission_grp_1_ind','admission_grp_2_ind','discharge_grp_1_ind', 'discharge_grp_2_ind','admission_type_ind'])\n"
   ]
  },
  {
   "cell_type": "code",
   "execution_count": 9,
   "id": "e84a384a-edfc-41c4-a720-17ff71bd093c",
   "metadata": {
    "execution": {
     "iopub.execute_input": "2025-03-17T16:30:15.343632Z",
     "iopub.status.busy": "2025-03-17T16:30:15.343213Z",
     "iopub.status.idle": "2025-03-17T16:30:15.448528Z",
     "shell.execute_reply": "2025-03-17T16:30:15.446793Z",
     "shell.execute_reply.started": "2025-03-17T16:30:15.343613Z"
    }
   },
   "outputs": [],
   "source": [
    "\n",
    "#clean dx codes and replace missing values with ZZZ\n",
    "diabetes['diag_1'] = diabetes['diag_1'].astype(str).str[ :3]\n",
    "diabetes['diag_2'] = diabetes['diag_2'].astype(str).str[ :3]\n",
    "diabetes['diag_3'] = diabetes['diag_3'].astype(str).str[ :3]\n",
    "\n",
    "diabetes['diag_1'] = diabetes['diag_1'].replace('?', 'ZZZ')\n",
    "diabetes['diag_2'] = diabetes['diag_2'].replace('?', 'ZZZ')\n",
    "diabetes['diag_3'] = diabetes['diag_3'].replace('?', 'ZZZ')"
   ]
  },
  {
   "cell_type": "code",
   "execution_count": 10,
   "id": "26861a91-08fd-41e8-86f7-6151af894674",
   "metadata": {
    "execution": {
     "iopub.execute_input": "2025-03-17T16:30:15.468094Z",
     "iopub.status.busy": "2025-03-17T16:30:15.467755Z",
     "iopub.status.idle": "2025-03-17T16:30:15.793443Z",
     "shell.execute_reply": "2025-03-17T16:30:15.792378Z",
     "shell.execute_reply.started": "2025-03-17T16:30:15.468068Z"
    }
   },
   "outputs": [],
   "source": [
    "\n",
    "#add patient-level count of unique diagnoses codes \n",
    "# Melt the dataset to have all diagnoses in a single column\n",
    "diagnosis_melted = diabetes.melt(id_vars=['patient_nbr'], value_vars=['diag_1', 'diag_2', 'diag_3'])\n",
    "\n",
    "# Group by patient_nbr and count distinct diagnosis codes\n",
    "distinct_counts = diagnosis_melted.groupby('patient_nbr')['value'].nunique().reset_index()\n",
    "\n",
    "# Rename columns for clarity\n",
    "distinct_counts.columns = ['patient_nbr', 'distinct_diag_count']\n",
    "\n",
    "diabetes = diabetes.merge(distinct_counts, on='patient_nbr', how='left')\n",
    "\n",
    "del diagnosis_melted, distinct_counts"
   ]
  },
  {
   "cell_type": "code",
   "execution_count": 11,
   "id": "cd12cdd1-2d4e-4f14-85dc-7dbdb80ddf34",
   "metadata": {
    "execution": {
     "iopub.execute_input": "2025-03-17T16:30:15.824043Z",
     "iopub.status.busy": "2025-03-17T16:30:15.823557Z",
     "iopub.status.idle": "2025-03-17T16:30:15.877801Z",
     "shell.execute_reply": "2025-03-17T16:30:15.877034Z",
     "shell.execute_reply.started": "2025-03-17T16:30:15.824015Z"
    }
   },
   "outputs": [],
   "source": [
    "\n",
    "# Read the dx code lookup into dataframe \n",
    "df = pd.read_csv(\"unique_diag_df_edit.csv\")\n",
    "\n",
    "# Convert DataFrame to a dictionary with 'diagnosis_cd' as keys and 'diagnosis' as values\n",
    "diag_dict = dict(zip(df['diagnosis_cd'], df['diagnosis']))\n",
    "\n",
    "diag_dict['ZZZ'] = 'No diag'  # Adding a new key-value pair\n",
    "\n",
    "del df\n",
    "\n",
    "#install descriptive diagnoses\n",
    "diabetes['diagnosis_1'] = diabetes['diag_1'].map(diag_dict)\n",
    "diabetes['diagnosis_2'] = diabetes['diag_2'].map(diag_dict)\n",
    "diabetes['diagnosis_3'] = diabetes['diag_3'].map(diag_dict)"
   ]
  },
  {
   "cell_type": "code",
   "execution_count": 12,
   "id": "88802caf-0ca8-4667-86bb-18562b6e628f",
   "metadata": {
    "execution": {
     "iopub.execute_input": "2025-03-17T16:30:15.903293Z",
     "iopub.status.busy": "2025-03-17T16:30:15.902756Z",
     "iopub.status.idle": "2025-03-17T16:30:15.960988Z",
     "shell.execute_reply": "2025-03-17T16:30:15.959946Z",
     "shell.execute_reply.started": "2025-03-17T16:30:15.903264Z"
    }
   },
   "outputs": [],
   "source": [
    "\n",
    "diabetes['diag_1_freq'] = diabetes.groupby('diag_1')['diag_1'].transform('count')\n",
    "diabetes['diag_2_freq'] = diabetes.groupby('diag_2')['diag_2'].transform('count')\n",
    "diabetes['diag_3_freq'] = diabetes.groupby('diag_3')['diag_3'].transform('count')"
   ]
  },
  {
   "cell_type": "code",
   "execution_count": 13,
   "id": "d626b0e7-2d8c-41f8-959b-4de403a9295f",
   "metadata": {
    "execution": {
     "iopub.execute_input": "2025-03-17T16:30:15.986530Z",
     "iopub.status.busy": "2025-03-17T16:30:15.986004Z",
     "iopub.status.idle": "2025-03-17T16:30:16.113332Z",
     "shell.execute_reply": "2025-03-17T16:30:16.112312Z",
     "shell.execute_reply.started": "2025-03-17T16:30:15.986501Z"
    }
   },
   "outputs": [],
   "source": [
    "\n",
    "# Major ordered drivers of readmit\n",
    "diabetes['diag_1_428_ind'] = ( diabetes['diag_1']=='428' ).astype(int) #CHF NOS\n",
    "diabetes['diag_1_491_ind'] = ( diabetes['diag_1']=='491' ).astype(int) #SIMPLE CHR BRONCHITIS\n",
    "diabetes['diag_1_493_ind'] = ( diabetes['diag_1']=='493' ).astype(int) #EXTRINSIC ASTHMA NOS\n",
    "\n",
    "diabetes['diag_2_403_ind'] = ( diabetes['diag_2']=='403' ).astype(int) #MAL HY KID W CR KID I-IV\n",
    "diabetes['diag_2_707_ind'] = ( diabetes['diag_2']=='707' ).astype(int) #DECUBITUS ULCER\n",
    "diabetes['diag_2_585_ind'] = ( diabetes['diag_2']=='585' ).astype(int) #CHRONIC RENAL FAILURE\n",
    "diabetes['diag_2_491_ind'] = ( diabetes['diag_2']=='491' ).astype(int) #SIMPLE CHR BRONCHITIS\n",
    "\n",
    "diabetes['diag_3_403_ind'] = ( diabetes['diag_3']=='403' ).astype(int) #MAL HY KID W CR KID I-IV\n",
    "diabetes['diag_3_585_ind'] = ( diabetes['diag_3']=='585' ).astype(int) #CHRONIC RENAL FAILURE\n",
    "diabetes['diag_3_707_ind'] = ( diabetes['diag_3']=='707' ).astype(int) #DECUBITUS ULCER\n"
   ]
  },
  {
   "cell_type": "code",
   "execution_count": 14,
   "id": "5e1349c0-56bb-4a0b-b51c-d416a47233db",
   "metadata": {
    "execution": {
     "iopub.execute_input": "2025-03-17T16:30:16.139179Z",
     "iopub.status.busy": "2025-03-17T16:30:16.138884Z",
     "iopub.status.idle": "2025-03-17T16:30:16.147989Z",
     "shell.execute_reply": "2025-03-17T16:30:16.147368Z",
     "shell.execute_reply.started": "2025-03-17T16:30:16.139157Z"
    }
   },
   "outputs": [],
   "source": [
    "\n",
    "diabetes['diag_1_driver_ind'] = diabetes['diag_1'].isin([ '403' #MAL HY KID W CR KID I-IV\n",
    ", '787' #NAUSEA WITH VOMITING\n",
    ", '404' #MAL HY HT/KD I-IV W/O HF\n",
    ", '707' #DECUBITUS ULCER\n",
    ", '572' #ABSCESS OF LIVER\n",
    ", '730' #AC OSTEOMYELITIS-UNSPEC\n",
    ", 'V58' #RADIOTHERAPY ENCOUNTER\n",
    ", '537' #ACQ PYLORIC STENOSIS\n",
    ", '443' #RAYNAUD'S SYNDROME\n",
    ", '292' #DRUG WITHDRAWAL\n",
    ", '496' #CHR AIRWAY OBSTRUCT NEC\n",
    ", '585' #CHRONIC RENAL FAILURE\n",
    ", '282' #HEREDITARY SPHEROCYTOSIS\n",
    ", '799' #ASPHYXIA\n",
    ", '284' #CONGEN APLASTIC ANEMIA\n",
    ", '567' #PERITONITIS IN INFEC DIS\n",
    ", '293' #DELIRIUM D/T OTHER COND\n",
    ", '924' #CONTUSION OF THIGH\n",
    ", '340' #MULTIPLE SCLEROSIS\n",
    ", '514' #PULM CONGEST/HYPOSTASIS\n",
    ", '485' #BRONCHOPNEUMONIA ORG NOS\n",
    ", '714' #RHEUMATOID ARTHRITIS\n",
    ", '277' #CYSTIC FIBROS W/O ILEUS\n",
    ", '150' #MAL NEO CERVICAL ESOPHAG\n",
    ", '135' #SARCOIDOSIS\n",
    ", '522']).astype(int) #PULPITIS\n"
   ]
  },
  {
   "cell_type": "code",
   "execution_count": 15,
   "id": "c004d5be-b438-4426-91bf-2a571eaf1c31",
   "metadata": {
    "execution": {
     "iopub.execute_input": "2025-03-17T16:30:16.165628Z",
     "iopub.status.busy": "2025-03-17T16:30:16.165354Z",
     "iopub.status.idle": "2025-03-17T16:30:16.182029Z",
     "shell.execute_reply": "2025-03-17T16:30:16.181187Z",
     "shell.execute_reply.started": "2025-03-17T16:30:16.165610Z"
    }
   },
   "outputs": [],
   "source": [
    "\n",
    "diabetes['diag_2_driver_ind'] = diabetes['diag_2'].isin([ '571' #ALCOHOLIC FATTY LIVER\n",
    ", '404' #MAL HY HT/KD I-IV W/O HF\n",
    ", '536' #ACHLORHYDRIA\n",
    ", '202' #NDLR LYM UNSP XTRNDL ORG\n",
    ", '396' #MITRAL/AORTIC STENOSIS\n",
    ", '304' #OPIOID DEPENDENCE-UNSPEC\n",
    ", '444' #ABD AORTIC EMBOLISM\n",
    ", '581' #NEPHROTIC SYN, PROLIFER\n",
    ", '731' #OSTEITIS DEFORMANS NOS\n",
    ", 'E94' #ADV EFF ANALEPTICS\n",
    ", '397' #TRICUSPID VALVE DISEASE\n",
    ", '595' #ACUTE CYSTITIS\n",
    ", '205' #AC MYL LEUK WO ACHV RMSN\n",
    ", '490' #BRONCHITIS NOS\n",
    ", '459' #HEMORRHAGE NOS\n",
    ", '189' #MALIG NEOPL KIDNEY\n",
    ", '154' #MAL NEO RECTOSIGMOID JCT\n",
    ", '332' #PARALYSIS AGITANS\n",
    ", 'V49' #DEFICIENCIES OF LIMBS\n",
    ", '681' #CELLULITIS, FINGER NOS\n",
    ", '150' #MAL NEO CERVICAL ESOPHAG\n",
    ", '537' #ACQ PYLORIC STENOSIS\n",
    ", '094' ]).astype(int) #TABES DORSALIS\n",
    "\n"
   ]
  },
  {
   "cell_type": "code",
   "execution_count": 16,
   "id": "d4cb1634-9bbb-46fb-b6cf-4fa04e687a49",
   "metadata": {
    "execution": {
     "iopub.execute_input": "2025-03-17T16:30:16.206283Z",
     "iopub.status.busy": "2025-03-17T16:30:16.205851Z",
     "iopub.status.idle": "2025-03-17T16:30:16.231123Z",
     "shell.execute_reply": "2025-03-17T16:30:16.230385Z",
     "shell.execute_reply.started": "2025-03-17T16:30:16.206257Z"
    }
   },
   "outputs": [],
   "source": [
    "\n",
    "diabetes['diag_3_driver_ind'] = diabetes['diag_3'].isin([  '682' #CELLULITIS OF FACE\n",
    ", '070' #HEPATITIS A WITH COMA\n",
    ", '536' #ACHLORHYDRIA\n",
    ", 'V42' #KIDNEY TRANSPLANT STATUS\n",
    ", '443' #RAYNAUD'S SYNDROME\n",
    ", '304' #OPIOID DEPENDENCE-UNSPEC\n",
    ", '284' #CONGEN APLASTIC ANEMIA\n",
    ", '466' #ACUTE BRONCHITIS\n",
    ", '459' #HEMORRHAGE NOS\n",
    ", '581' #NEPHROTIC SYN, PROLIFER\n",
    ", '337' #IDIOPATH AUTO NEUROPATHY\n",
    ", '583' #PROLIFERAT NEPHRITIS NOS\n",
    ", '203' #MULT MYE W/O ACHV RMSON\n",
    ", 'V46' #DEPENDENCE ON ASPIRATOR\n",
    ", '482' #K. PNEUMONIAE PNEUMONIA\n",
    ", 'V49' #DEFICIENCIES OF LIMBS\n",
    ", '444' #ABD AORTIC EMBOLISM\n",
    ", '174' #MALIG NEO NIPPLE\n",
    ", '456' #ESOPHAG VARICES W BLEED\n",
    ", '519' #TRACHEOSTOMY COMP NOS\n",
    ", 'E92' #ACC-POWERED LAWN MOWER\n",
    ", 'V62' #UNEMPLOYMENT\n",
    ", '356' #HERED PERIPH NEUROPATHY\n",
    ", '711' #PYOGEN ARTHRITIS-UNSPEC\n",
    ", '053' ]).astype(int)  #HERPES ZOSTER MENINGITIS\n"
   ]
  },
  {
   "cell_type": "code",
   "execution_count": 17,
   "id": "1bc049ee-0ca3-40df-afa9-f03e7843caec",
   "metadata": {
    "execution": {
     "iopub.execute_input": "2025-03-17T16:30:16.249379Z",
     "iopub.status.busy": "2025-03-17T16:30:16.249089Z",
     "iopub.status.idle": "2025-03-17T16:30:16.798210Z",
     "shell.execute_reply": "2025-03-17T16:30:16.795684Z",
     "shell.execute_reply.started": "2025-03-17T16:30:16.249353Z"
    }
   },
   "outputs": [],
   "source": [
    "\n",
    "# Create 'diagnosis_array' column\n",
    "diabetes['diagnosis_array'] = diabetes[['diag_1', 'diag_2', 'diag_3']].values.tolist()\n",
    "\n",
    "# Sort 'diagnosis_array'\n",
    "diabetes['diagnosis_array'] = diabetes['diagnosis_array'].apply(sorted)\n",
    "\n",
    "# Convert list to tuple (to make it hashable for groupby)\n",
    "diabetes['diagnosis_array_tuple'] = diabetes['diagnosis_array'].apply(tuple)\n",
    "\n",
    "# Count frequency of 'diagnosis_array'\n",
    "diabetes['diagnosis_tuple_freq'] = diabetes.groupby('diagnosis_array_tuple')['diagnosis_array_tuple'].transform('count')\n",
    "\n",
    "# Assign sorted elements back to new columns (Simplifies frequency analysis)\n",
    "diabetes[['diag_1_sort', 'diag_2_sort', 'diag_3_sort']] = pd.DataFrame(diabetes['diagnosis_array'].tolist(), index=diabetes.index)\n",
    "\n",
    "diabetes['diag_1_sort_freq'] = diabetes.groupby('diag_1_sort')['diag_1_sort'].transform('count')\n",
    "diabetes['diag_2_sort_freq'] = diabetes.groupby('diag_2_sort')['diag_2_sort'].transform('count')\n",
    "diabetes['diag_3_sort_freq'] = diabetes.groupby('diag_3_sort')['diag_3_sort'].transform('count')\n",
    "\n",
    "# Drop temporary tuple\n",
    "diabetes.drop(columns=['diagnosis_array_tuple'], inplace=True)\n",
    "\n",
    "# Reformat the array as a tuple-like string\n",
    "diabetes['diagnosis_tuple'] = diabetes['diagnosis_array'].apply(lambda x: f\"({' '.join(x)})\")\n",
    "\n",
    "# Drop temporary array\n",
    "diabetes.drop(columns=['diagnosis_array'], inplace=True)\n",
    "                                          \n",
    "#install descriptive diagnoses\n",
    "diabetes['diagnosis_1_sort'] = diabetes['diag_1_sort'].map(diag_dict)\n",
    "diabetes['diagnosis_2_sort'] = diabetes['diag_2_sort'].map(diag_dict)\n",
    "diabetes['diagnosis_3_sort'] = diabetes['diag_3_sort'].map(diag_dict)\n",
    "\n",
    "del diag_dict"
   ]
  },
  {
   "cell_type": "code",
   "execution_count": 18,
   "id": "3c570fad-c896-4d25-bb56-b60b0284a222",
   "metadata": {
    "execution": {
     "iopub.execute_input": "2025-03-17T16:30:16.830048Z",
     "iopub.status.busy": "2025-03-17T16:30:16.829603Z",
     "iopub.status.idle": "2025-03-17T16:30:16.857031Z",
     "shell.execute_reply": "2025-03-17T16:30:16.856340Z",
     "shell.execute_reply.started": "2025-03-17T16:30:16.830020Z"
    }
   },
   "outputs": [],
   "source": [
    "\n",
    "diabetes['high propensity tuple ind'] = diabetes['diagnosis_tuple'].isin(['(250 403 428)'\n",
    ", '(250 428 585)'\n",
    ", '(250 276 536)'\n",
    ", '(250 428 491)'\n",
    ", '(276 403 585)'\n",
    ", '(250 276 428)'\n",
    ", '(250 276 403)'\n",
    ", '(424 427 428)'\n",
    ", '(250 403 996)'\n",
    ", '(250 428 496)'\n",
    ", '(250 425 428)'\n",
    ", '(403 428 584)'\n",
    ", '(427 428 491)'\n",
    ", '(250 428 707)'\n",
    ", '(250 682 707)'\n",
    ", '(428 486 496)'\n",
    ", '(428 491 518)'\n",
    ", '(250 276 577)'\n",
    ", '(427 428 496)'\n",
    ", '(425 427 428)'\n",
    ", '(414 428 496)'\n",
    ", '(427 428 599)'\n",
    ", '(250 403 585)'\n",
    ", '(427 427 428)'\n",
    ", '(428 486 491)'\n",
    ", '(401 414 428)'\n",
    ", '(276 428 584)'\n",
    ", '(427 428 428)'\n",
    ", '(403 428 585)'\n",
    ", '(250 440 707)'\n",
    ", '(250 707 730)'\n",
    ", '(486 491 518)'\n",
    ", '(250 401 428)'\n",
    ", '(427 428 486)'\n",
    ", '(411 414 496)'\n",
    ", '(250 414 428)'\n",
    ", '(250 401 493)'\n",
    ", '(250 276 558)'\n",
    ", '(250 730 731)'\n",
    ", '(276 38 599)'\n",
    ", '(250 428 486)'\n",
    ", '(250 401 491)'\n",
    ", '(250 427 428)'\n",
    ", '(250 276 599)'\n",
    ", '(276 427 428)'\n",
    ", '(250 707 785)'\n",
    ", '(411 414 428)'\n",
    ", '(403 585 996)']).astype(int)\n"
   ]
  },
  {
   "cell_type": "code",
   "execution_count": 19,
   "id": "14e38868-03e5-4e56-85b7-32d7a130f9e9",
   "metadata": {
    "execution": {
     "iopub.execute_input": "2025-03-17T16:30:16.881948Z",
     "iopub.status.busy": "2025-03-17T16:30:16.881429Z",
     "iopub.status.idle": "2025-03-17T16:30:16.888763Z",
     "shell.execute_reply": "2025-03-17T16:30:16.887380Z",
     "shell.execute_reply.started": "2025-03-17T16:30:16.881919Z"
    }
   },
   "outputs": [],
   "source": [
    "\n",
    "dx_list=[ '428'\n",
    ", '403'\n",
    ", '707'\n",
    ", '585'\n",
    ", '491'\n",
    ", '396'\n",
    ", '440'\n",
    ", '453'\n",
    ", '571'\n",
    ", '284'\n",
    ", '304'\n",
    ", '482'\n",
    ", '150'\n",
    ", '282'\n",
    ", '332'\n",
    ", '443'\n",
    ", '719'\n",
    ", '423'\n",
    ", '281'\n",
    ", '536'\n",
    ", '368'\n",
    ", '515'\n",
    ", '595'\n",
    ", '572'\n",
    ", '681'\n",
    ", '581'\n",
    ", '537'\n",
    ", '490'\n",
    ", '583'\n",
    ", 'V46'\n",
    ", '519'\n",
    ", '300'\n",
    ", '567'\n",
    ", 'E92'\n",
    ", 'V49'\n",
    ", '094'\n",
    ", '514'\n",
    ", '494'\n",
    ", '042'\n",
    ", '404'\n",
    ", '346'\n",
    ", '792'\n",
    ", '398'\n",
    ", '753'\n",
    ", '577'\n",
    ", '730'\n",
    ", '444'\n",
    ", '459'\n",
    ", '790'\n",
    ", '337'\n",
    ", '397'\n",
    ", '292'\n",
    ", 'V42'\n",
    ", '289']\n"
   ]
  },
  {
   "cell_type": "code",
   "execution_count": 20,
   "id": "5f750fc2-a05b-41b8-807d-4a7f165b4038",
   "metadata": {
    "execution": {
     "iopub.execute_input": "2025-03-17T16:30:16.917084Z",
     "iopub.status.busy": "2025-03-17T16:30:16.916555Z",
     "iopub.status.idle": "2025-03-17T16:30:16.963691Z",
     "shell.execute_reply": "2025-03-17T16:30:16.962999Z",
     "shell.execute_reply.started": "2025-03-17T16:30:16.917064Z"
    }
   },
   "outputs": [
    {
     "name": "stdout",
     "output_type": "stream",
     "text": [
      "(101766, 59)\n"
     ]
    }
   ],
   "source": [
    "\n",
    "# Create dx_events with the selected columns\n",
    "dx_events = diabetes[['patient_nbr', 'encounter_id', 'diag_1', 'diag_2', 'diag_3']].copy(deep=True)\n",
    "\n",
    "# Add new empty columns for each element in dx_list\n",
    "for dx in dx_list:\n",
    "    dx_events[f'dx_{dx}_ind'] = pd.NA  # Creates empty columns with missing values (best for Pandas)\n",
    "\n",
    "print(dx_events.shape)"
   ]
  },
  {
   "cell_type": "code",
   "execution_count": 21,
   "id": "ed3ba5d7-e073-464c-ab90-943eace3bc9e",
   "metadata": {
    "execution": {
     "iopub.execute_input": "2025-03-17T16:30:16.985106Z",
     "iopub.status.busy": "2025-03-17T16:30:16.984541Z",
     "iopub.status.idle": "2025-03-17T16:30:18.537270Z",
     "shell.execute_reply": "2025-03-17T16:30:18.536403Z",
     "shell.execute_reply.started": "2025-03-17T16:30:16.985074Z"
    }
   },
   "outputs": [
    {
     "name": "stdout",
     "output_type": "stream",
     "text": [
      "done\n"
     ]
    }
   ],
   "source": [
    "\n",
    "# populate each column\n",
    "for dx in dx_list:\n",
    "    dx_events[f'dx_{dx}_ind'] = ((dx_events['diag_1'] == dx) |\n",
    "                                 (dx_events['diag_2'] == dx) |\n",
    "                                 (dx_events['diag_3'] == dx) ).astype(int)\n",
    "print('done')   "
   ]
  },
  {
   "cell_type": "code",
   "execution_count": 22,
   "id": "d7b29e4b-fddb-4964-a6ed-9c1a5fb26cba",
   "metadata": {
    "execution": {
     "iopub.execute_input": "2025-03-17T16:30:18.557624Z",
     "iopub.status.busy": "2025-03-17T16:30:18.557256Z",
     "iopub.status.idle": "2025-03-17T16:30:20.096867Z",
     "shell.execute_reply": "2025-03-17T16:30:20.095759Z",
     "shell.execute_reply.started": "2025-03-17T16:30:18.557597Z"
    }
   },
   "outputs": [],
   "source": [
    "\n",
    "# Group by patient_nbr and compute max and sum for each diagnosis indicator\n",
    "dx_aggregated = dx_events.groupby('patient_nbr').agg(\n",
    "    {f'dx_{dx}_ind': ['max', 'sum'] for dx in dx_list}\n",
    ")\n",
    "\n",
    "# Rename columns to match SQL-style naming\n",
    "dx_aggregated.columns = [f'{col[0]}_{col[1]}' for col in dx_aggregated.columns]\n",
    "\n",
    "# Reset index to bring patient_nbr back as a column\n",
    "dx_aggregated = dx_aggregated.reset_index()\n",
    "\n",
    "dx_aggregated.to_csv('dx_aggregated_ck.csv',index=False)\n",
    "del dx_events"
   ]
  },
  {
   "cell_type": "code",
   "execution_count": 23,
   "id": "17c707d1-f52e-469d-a18f-31582f6bcc08",
   "metadata": {
    "execution": {
     "iopub.execute_input": "2025-03-17T16:30:20.119817Z",
     "iopub.status.busy": "2025-03-17T16:30:20.119396Z",
     "iopub.status.idle": "2025-03-17T16:30:20.554548Z",
     "shell.execute_reply": "2025-03-17T16:30:20.553598Z",
     "shell.execute_reply.started": "2025-03-17T16:30:20.119790Z"
    }
   },
   "outputs": [
    {
     "name": "stdout",
     "output_type": "stream",
     "text": [
      "(101766, 97)\n",
      "(101766, 205)\n"
     ]
    }
   ],
   "source": [
    "\n",
    "print(diabetes.shape)\n",
    "diabetes = diabetes.merge(dx_aggregated, on='patient_nbr', how='left')\n",
    "print(diabetes.shape)\n",
    "del dx_aggregated"
   ]
  },
  {
   "cell_type": "code",
   "execution_count": 24,
   "id": "86b3f612-37ad-43b8-8d00-697e0bebaaa8",
   "metadata": {
    "execution": {
     "iopub.execute_input": "2025-03-17T16:30:20.579619Z",
     "iopub.status.busy": "2025-03-17T16:30:20.579230Z",
     "iopub.status.idle": "2025-03-17T16:30:22.244886Z",
     "shell.execute_reply": "2025-03-17T16:30:22.244182Z",
     "shell.execute_reply.started": "2025-03-17T16:30:20.579589Z"
    }
   },
   "outputs": [],
   "source": [
    "\n",
    "diabetes['alcohol_ind'] = diabetes[['diagnosis_1', 'diagnosis_2', 'diagnosis_3']].apply(\n",
    "    lambda row: int(any('ALCOHOL' in str(val) for val in row)), axis=1\n",
    ")\n",
    "\n",
    "diabetes['obesity_ind'] = diabetes[['diagnosis_1', 'diagnosis_2', 'diagnosis_3']].apply(\n",
    "    lambda row: int(any('OBESITY' in str(val) for val in row)), axis=1\n",
    ")\n",
    "\n",
    "diabetes['mh_ind'] = diabetes[['diagnosis_1', 'diagnosis_2', 'diagnosis_3']].apply(\n",
    "    lambda row: int(any('MALIGNANT HYPERTENSION' in str(val) for val in row)), axis=1\n",
    ")"
   ]
  },
  {
   "cell_type": "code",
   "execution_count": 25,
   "id": "0b6b9bc4-112a-4cf5-947b-306144fe7fdf",
   "metadata": {
    "execution": {
     "iopub.execute_input": "2025-03-17T16:30:22.263500Z",
     "iopub.status.busy": "2025-03-17T16:30:22.263097Z",
     "iopub.status.idle": "2025-03-17T16:30:22.297377Z",
     "shell.execute_reply": "2025-03-17T16:30:22.296779Z",
     "shell.execute_reply.started": "2025-03-17T16:30:22.263483Z"
    }
   },
   "outputs": [],
   "source": [
    "\n",
    "diabetes['alcohol_history_ind'] = diabetes.groupby('patient_nbr')['alcohol_ind'].transform('max')\n",
    "diabetes['obesity_history_ind'] = diabetes.groupby('patient_nbr')['obesity_ind'].transform('max')\n",
    "diabetes['mh_history_ind'] = diabetes.groupby('patient_nbr')['mh_ind'].transform('max')\n",
    "\n",
    "drop.extend(['alcohol_ind', 'obesity_ind', 'mh_ind'])"
   ]
  },
  {
   "cell_type": "code",
   "execution_count": 26,
   "id": "dce2c3fe-2184-4007-8ace-7b01aa27d222",
   "metadata": {
    "execution": {
     "iopub.execute_input": "2025-03-17T16:30:22.314249Z",
     "iopub.status.busy": "2025-03-17T16:30:22.313970Z",
     "iopub.status.idle": "2025-03-17T16:30:22.339473Z",
     "shell.execute_reply": "2025-03-17T16:30:22.338977Z",
     "shell.execute_reply.started": "2025-03-17T16:30:22.314228Z"
    }
   },
   "outputs": [],
   "source": [
    "\n",
    "diabetes['readmitted_lt30_ind'] = ( diabetes['readmitted']=='<30' ).astype(int)\n",
    "diabetes['readmitted_gt30_ind'] = ( diabetes['readmitted']=='>30' ).astype(int)\n",
    "diabetes['readmitted_no_ind'] = ( diabetes['readmitted']=='NO' ).astype(int)\n",
    "diabetes['readmitted_ind'] = diabetes['readmitted_lt30_ind'] + diabetes['readmitted_gt30_ind']"
   ]
  },
  {
   "cell_type": "code",
   "execution_count": 27,
   "id": "72199f99-5d3a-48e1-9c13-2b07266738c3",
   "metadata": {
    "execution": {
     "iopub.execute_input": "2025-03-17T16:30:22.357650Z",
     "iopub.status.busy": "2025-03-17T16:30:22.357138Z",
     "iopub.status.idle": "2025-03-17T16:30:22.500291Z",
     "shell.execute_reply": "2025-03-17T16:30:22.499464Z",
     "shell.execute_reply.started": "2025-03-17T16:30:22.357623Z"
    }
   },
   "outputs": [],
   "source": [
    "\n",
    "#add patient-level some features\n",
    "diabetes['encounter_ct'] = diabetes['patient_nbr'].map(diabetes.groupby('patient_nbr')['encounter_id'].nunique())\n",
    "diabetes['mb_time_in_hospital'] = diabetes.groupby('patient_nbr')['time_in_hospital'].transform('sum')\n",
    "diabetes['mb_readmitted_lt30_ct'] = diabetes.groupby('patient_nbr')['readmitted_lt30_ind'].transform('sum')\n",
    "diabetes['mb_readmitted_gt30_ct'] = diabetes.groupby('patient_nbr')['readmitted_gt30_ind'].transform('sum')\n",
    "diabetes['mb_readmitted_no_ct'] = diabetes.groupby('patient_nbr')['readmitted_no_ind'].transform('sum')\n",
    "diabetes['mb_num_lab_procedures_ct'] = diabetes.groupby('patient_nbr')['num_lab_procedures'].transform('sum')\n",
    "diabetes['mb_num_procedures_ct'] = diabetes.groupby('patient_nbr')['num_procedures'].transform('sum')\n",
    "diabetes['mb_num_medications_ct'] = diabetes.groupby('patient_nbr')['num_medications'].transform('sum')\n",
    "diabetes['mb_number_outpatient_ct'] = diabetes.groupby('patient_nbr')['number_outpatient'].transform('sum')\n",
    "diabetes['mb_number_emergency_ct'] = diabetes.groupby('patient_nbr')['number_emergency'].transform('sum')\n",
    "diabetes['mb_number_inpatient_ct'] = diabetes.groupby('patient_nbr')['number_inpatient'].transform('sum')\n",
    "diabetes['mb_number_diagnoses_ct'] = diabetes.groupby('patient_nbr')['number_diagnoses'].transform('sum')\n",
    "\n",
    "drop.extend(['readmitted_lt30_ind', 'readmitted_gt30_ind', 'readmitted_no_ind'])"
   ]
  },
  {
   "cell_type": "code",
   "execution_count": 28,
   "id": "1266ce89-8341-4336-88b1-e36239f5109b",
   "metadata": {
    "execution": {
     "iopub.execute_input": "2025-03-17T16:30:22.521115Z",
     "iopub.status.busy": "2025-03-17T16:30:22.520450Z",
     "iopub.status.idle": "2025-03-17T16:30:22.564345Z",
     "shell.execute_reply": "2025-03-17T16:30:22.563646Z",
     "shell.execute_reply.started": "2025-03-17T16:30:22.521086Z"
    }
   },
   "outputs": [],
   "source": [
    "\n",
    "# delete patients whose history includes childhood or old age\n",
    "diabetes['under10_ind'] = diabetes['age'].isin(['[0-10)']).astype(int)\n",
    "diabetes['over80_ind']  = diabetes['age'].isin(['[80-90)', '[90-100)']).astype(int)\n",
    "\n",
    "diabetes['mb_under10_ind'] = diabetes.groupby('patient_nbr')['under10_ind'].transform('max')\n",
    "diabetes['mb_over80_ind'] = diabetes.groupby('patient_nbr')['over80_ind'].transform('max')\n",
    "\n",
    "drop.extend(['under10_ind', 'over80_ind'])"
   ]
  },
  {
   "cell_type": "code",
   "execution_count": 29,
   "id": "643bc484-cc6b-418f-882f-c29758b46ef3",
   "metadata": {
    "execution": {
     "iopub.execute_input": "2025-03-17T16:30:22.582337Z",
     "iopub.status.busy": "2025-03-17T16:30:22.581872Z",
     "iopub.status.idle": "2025-03-17T16:30:22.634147Z",
     "shell.execute_reply": "2025-03-17T16:30:22.633517Z",
     "shell.execute_reply.started": "2025-03-17T16:30:22.582310Z"
    }
   },
   "outputs": [],
   "source": [
    "\n",
    "diabetes['A1c gt 7 ind'] = ( diabetes['A1Cresult']=='>7' ).astype(int)\n",
    "diabetes['A1c gt 8 ind'] = ( diabetes['A1Cresult']=='>8' ).astype(int)\n",
    "diabetes['A1c Norm ind'] = ( diabetes['A1Cresult']=='Norm' ).astype(int)\n",
    "\n",
    "diabetes['mb A1c gt 7 ct'] = diabetes.groupby('patient_nbr')['A1c gt 7 ind'].transform('sum')\n",
    "diabetes['mb A1c gt 8 ct'] = diabetes.groupby('patient_nbr')['A1c gt 8 ind'].transform('sum')\n",
    "diabetes['mb A1c Norm ct'] = diabetes.groupby('patient_nbr')['A1c Norm ind'].transform('sum')\n",
    "\n",
    "drop.extend(['A1c gt 7 ind', 'A1c gt 8 ind', 'A1c Norm ind'])"
   ]
  },
  {
   "cell_type": "raw",
   "id": "87f09385-659b-4968-89ff-d4f400968bec",
   "metadata": {
    "execution": {
     "iopub.execute_input": "2025-03-09T04:20:46.378728Z",
     "iopub.status.busy": "2025-03-09T04:20:46.378382Z",
     "iopub.status.idle": "2025-03-09T04:20:46.382775Z",
     "shell.execute_reply": "2025-03-09T04:20:46.382124Z",
     "shell.execute_reply.started": "2025-03-09T04:20:46.378705Z"
    }
   },
   "source": [
    "\n",
    "#get frequency on all these.\n",
    "drugs=['metformin'\n",
    ",'repaglinide'\n",
    ",'nateglinide'\n",
    ",'chlorpropamide'\n",
    ",'glimepiride'\n",
    ",'acetohexamide'\n",
    ",'glipizide'\n",
    ",'glyburide'\n",
    ",'tolbutamide'\n",
    ",'pioglitazone'\n",
    ",'rosiglitazone'\n",
    ",'acarbose'\n",
    ",'miglitol'\n",
    ",'troglitazone'\n",
    ",'tolazamide'\n",
    ",'examide'\n",
    ",'citoglipton'\n",
    ",'insulin'\n",
    ",'glyburide-metformin'\n",
    ",'glipizide-metformin'\n",
    ",'glimepiride-pioglitazone'\n",
    ",'metformin-rosiglitazone'\n",
    ",'metformin-pioglitazone']"
   ]
  },
  {
   "cell_type": "raw",
   "id": "041bfc86-80f9-41ad-946a-df2030ef0247",
   "metadata": {
    "execution": {
     "iopub.execute_input": "2025-03-08T05:24:08.852740Z",
     "iopub.status.busy": "2025-03-08T05:24:08.851967Z",
     "iopub.status.idle": "2025-03-08T05:24:09.029697Z",
     "shell.execute_reply": "2025-03-08T05:24:09.028830Z",
     "shell.execute_reply.started": "2025-03-08T05:24:08.852715Z"
    }
   },
   "source": [
    "\n",
    "# Create an empty list to store results\n",
    "records = []\n",
    "\n",
    "# Compute frequency counts for each feature in `drugs`\n",
    "for feature in drugs:\n",
    "    value_counts = diabetes[feature].value_counts(dropna=False).reset_index()\n",
    "    value_counts.columns = ['observation', 'count']\n",
    "    value_counts['feature'] = feature  # Add feature name\n",
    "\n",
    "    # Append results\n",
    "    records.append(value_counts)\n",
    "\n",
    "# Combine all frequency tables into a single DataFrame\n",
    "drug_freq = pd.concat(records, ignore_index=True)[['feature', 'observation', 'count']]\n",
    "drug_freq.to_csv('drugs.csv',index=False)"
   ]
  },
  {
   "cell_type": "code",
   "execution_count": 30,
   "id": "1cb1a36e-43b4-4aca-b004-abcd73b90384",
   "metadata": {
    "execution": {
     "iopub.execute_input": "2025-03-17T16:30:22.651772Z",
     "iopub.status.busy": "2025-03-17T16:30:22.651526Z",
     "iopub.status.idle": "2025-03-17T16:30:22.655324Z",
     "shell.execute_reply": "2025-03-17T16:30:22.654596Z",
     "shell.execute_reply.started": "2025-03-17T16:30:22.651754Z"
    }
   },
   "outputs": [],
   "source": [
    "drop.extend([ 'citoglipton'\n",
    ", 'examide'\n",
    ", 'acetohexamide'\n",
    ", 'glimepiride-pioglitazone'\n",
    ", 'metformin-pioglitazone'\n",
    ", 'metformin-rosiglitazone'\n",
    ", 'troglitazone'\n",
    ", 'glipizide-metformin'\n",
    ", 'tolbutamide'\n",
    ", 'miglitol'\n",
    ", 'tolazamide'\n",
    ", 'chlorpropamide'\n",
    ", 'acarbose'\n",
    ", 'nateglinide'\n",
    ", 'glyburide-metformin'\n",
    ", 'repaglinide' ])"
   ]
  },
  {
   "cell_type": "code",
   "execution_count": 31,
   "id": "1c43f60b-69ec-4465-93cf-2852f7104ecd",
   "metadata": {
    "execution": {
     "iopub.execute_input": "2025-03-17T16:30:22.673947Z",
     "iopub.status.busy": "2025-03-17T16:30:22.673566Z",
     "iopub.status.idle": "2025-03-17T16:30:22.718089Z",
     "shell.execute_reply": "2025-03-17T16:30:22.717204Z",
     "shell.execute_reply.started": "2025-03-17T16:30:22.673928Z"
    }
   },
   "outputs": [
    {
     "name": "stdout",
     "output_type": "stream",
     "text": [
      "    encounter_ct  patient_nbr\n",
      "0              1        54745\n",
      "1              2        10434\n",
      "2              3         3328\n",
      "3              4         1421\n",
      "4              5          717\n",
      "5              6          346\n",
      "6              7          207\n",
      "7              8          111\n",
      "8              9           70\n",
      "9             10           42\n",
      "10            11           20\n",
      "11            12           19\n",
      "12            13           14\n",
      "13            14            5\n",
      "14            15            9\n",
      "15            16            4\n",
      "16            17            3\n",
      "17            18            6\n",
      "18            19            3\n",
      "19            20            6\n",
      "20            21            1\n",
      "21            22            2\n",
      "22            23            3\n",
      "23            28            1\n",
      "24            40            1\n"
     ]
    }
   ],
   "source": [
    "\n",
    "print(diabetes.groupby('encounter_ct')['patient_nbr'].nunique().reset_index().sort_values('encounter_ct'))"
   ]
  },
  {
   "cell_type": "code",
   "execution_count": 32,
   "id": "94f36872-f786-4f37-b465-35702e4144e1",
   "metadata": {
    "execution": {
     "iopub.execute_input": "2025-03-17T16:30:22.741533Z",
     "iopub.status.busy": "2025-03-17T16:30:22.741320Z",
     "iopub.status.idle": "2025-03-17T16:30:22.892252Z",
     "shell.execute_reply": "2025-03-17T16:30:22.891387Z",
     "shell.execute_reply.started": "2025-03-17T16:30:22.741516Z"
    }
   },
   "outputs": [
    {
     "name": "stdout",
     "output_type": "stream",
     "text": [
      "(101766, 237)\n",
      "(78743, 237)\n"
     ]
    }
   ],
   "source": [
    "\n",
    "print(diabetes.shape)\n",
    "#remove very young and very old members, members who died, unknown gender\n",
    "diabetes = diabetes[\n",
    "    (diabetes['expiration_ind'] != 1 ) &\n",
    "    (diabetes['mb_under10_ind'] != 1 ) &\n",
    "    (diabetes['mb_over80_ind']  != 1 ) &\n",
    "    (diabetes['gender'] != 'Unknown/Invalid') &  # Exclude records with gender 'Unknown/Invalid'\n",
    "    (diabetes['encounter_ct'] < 14 )  # Exclude records with gender 'Unknown/Invalid'\n",
    "]\n",
    "print(diabetes.shape)\n",
    "\n",
    "drop.extend(['mb_under10_ind', 'mb_over80_ind', 'expiration_ind'])"
   ]
  },
  {
   "cell_type": "code",
   "execution_count": 33,
   "id": "a014203e-8dd1-4b94-acaa-e5c277363d98",
   "metadata": {
    "execution": {
     "iopub.execute_input": "2025-03-17T16:30:22.925613Z",
     "iopub.status.busy": "2025-03-17T16:30:22.925267Z",
     "iopub.status.idle": "2025-03-17T16:30:25.846107Z",
     "shell.execute_reply": "2025-03-17T16:30:25.845369Z",
     "shell.execute_reply.started": "2025-03-17T16:30:22.925585Z"
    }
   },
   "outputs": [
    {
     "name": "stdout",
     "output_type": "stream",
     "text": [
      "(78743, 195)\n",
      "<class 'pandas.core.frame.DataFrame'>\n",
      "Index: 78743 entries, 1 to 101765\n",
      "Data columns (total 195 columns):\n",
      " #    Column                     Non-Null Count  Dtype \n",
      "---   ------                     --------------  ----- \n",
      " 0    encounter_id               78743 non-null  int64 \n",
      " 1    patient_nbr                78743 non-null  int64 \n",
      " 2    gender                     78743 non-null  object\n",
      " 3    age                        78743 non-null  object\n",
      " 4    time_in_hospital           78743 non-null  int64 \n",
      " 5    num_lab_procedures         78743 non-null  int64 \n",
      " 6    num_procedures             78743 non-null  int64 \n",
      " 7    num_medications            78743 non-null  int64 \n",
      " 8    number_outpatient          78743 non-null  int64 \n",
      " 9    number_emergency           78743 non-null  int64 \n",
      " 10   number_inpatient           78743 non-null  int64 \n",
      " 11   diag_1                     78743 non-null  object\n",
      " 12   diag_2                     78743 non-null  object\n",
      " 13   diag_3                     78743 non-null  object\n",
      " 14   number_diagnoses           78743 non-null  int64 \n",
      " 15   A1Cresult                  14086 non-null  object\n",
      " 16   metformin                  78743 non-null  object\n",
      " 17   glimepiride                78743 non-null  object\n",
      " 18   glipizide                  78743 non-null  object\n",
      " 19   glyburide                  78743 non-null  object\n",
      " 20   pioglitazone               78743 non-null  object\n",
      " 21   rosiglitazone              78743 non-null  object\n",
      " 22   insulin                    78743 non-null  object\n",
      " 23   change                     78743 non-null  object\n",
      " 24   diabetesMed                78743 non-null  object\n",
      " 25   readmitted                 78743 non-null  object\n",
      " 26   admission_type             78743 non-null  object\n",
      " 27   discharge_disposition      78743 non-null  object\n",
      " 28   admission_source           78743 non-null  object\n",
      " 29   MP_DM_payer_ind            78743 non-null  int64 \n",
      " 30   mb_admission_grp_1_ct      78743 non-null  int64 \n",
      " 31   mb_admission_grp_2_ct      78743 non-null  int64 \n",
      " 32   mb_discharge_grp_1_ct      78743 non-null  int64 \n",
      " 33   mb_discharge_grp_2_ct      78743 non-null  int64 \n",
      " 34   mb_admission_type_ct       78743 non-null  int64 \n",
      " 35   distinct_diag_count        78743 non-null  int64 \n",
      " 36   diagnosis_1                78743 non-null  object\n",
      " 37   diagnosis_2                78743 non-null  object\n",
      " 38   diagnosis_3                78743 non-null  object\n",
      " 39   diag_1_freq                78743 non-null  int64 \n",
      " 40   diag_2_freq                78743 non-null  int64 \n",
      " 41   diag_3_freq                78743 non-null  int64 \n",
      " 42   diag_1_428_ind             78743 non-null  int64 \n",
      " 43   diag_1_491_ind             78743 non-null  int64 \n",
      " 44   diag_1_493_ind             78743 non-null  int64 \n",
      " 45   diag_2_403_ind             78743 non-null  int64 \n",
      " 46   diag_2_707_ind             78743 non-null  int64 \n",
      " 47   diag_2_585_ind             78743 non-null  int64 \n",
      " 48   diag_2_491_ind             78743 non-null  int64 \n",
      " 49   diag_3_403_ind             78743 non-null  int64 \n",
      " 50   diag_3_585_ind             78743 non-null  int64 \n",
      " 51   diag_3_707_ind             78743 non-null  int64 \n",
      " 52   diag_1_driver_ind          78743 non-null  int64 \n",
      " 53   diag_2_driver_ind          78743 non-null  int64 \n",
      " 54   diag_3_driver_ind          78743 non-null  int64 \n",
      " 55   diagnosis_tuple_freq       78743 non-null  int64 \n",
      " 56   diag_1_sort                78743 non-null  object\n",
      " 57   diag_2_sort                78743 non-null  object\n",
      " 58   diag_3_sort                78743 non-null  object\n",
      " 59   diag_1_sort_freq           78743 non-null  int64 \n",
      " 60   diag_2_sort_freq           78743 non-null  int64 \n",
      " 61   diag_3_sort_freq           78743 non-null  int64 \n",
      " 62   diagnosis_tuple            78743 non-null  object\n",
      " 63   diagnosis_1_sort           78743 non-null  object\n",
      " 64   diagnosis_2_sort           78743 non-null  object\n",
      " 65   diagnosis_3_sort           78743 non-null  object\n",
      " 66   high propensity tuple ind  78743 non-null  int64 \n",
      " 67   dx_428_ind_max             78743 non-null  int64 \n",
      " 68   dx_428_ind_sum             78743 non-null  int64 \n",
      " 69   dx_403_ind_max             78743 non-null  int64 \n",
      " 70   dx_403_ind_sum             78743 non-null  int64 \n",
      " 71   dx_707_ind_max             78743 non-null  int64 \n",
      " 72   dx_707_ind_sum             78743 non-null  int64 \n",
      " 73   dx_585_ind_max             78743 non-null  int64 \n",
      " 74   dx_585_ind_sum             78743 non-null  int64 \n",
      " 75   dx_491_ind_max             78743 non-null  int64 \n",
      " 76   dx_491_ind_sum             78743 non-null  int64 \n",
      " 77   dx_396_ind_max             78743 non-null  int64 \n",
      " 78   dx_396_ind_sum             78743 non-null  int64 \n",
      " 79   dx_440_ind_max             78743 non-null  int64 \n",
      " 80   dx_440_ind_sum             78743 non-null  int64 \n",
      " 81   dx_453_ind_max             78743 non-null  int64 \n",
      " 82   dx_453_ind_sum             78743 non-null  int64 \n",
      " 83   dx_571_ind_max             78743 non-null  int64 \n",
      " 84   dx_571_ind_sum             78743 non-null  int64 \n",
      " 85   dx_284_ind_max             78743 non-null  int64 \n",
      " 86   dx_284_ind_sum             78743 non-null  int64 \n",
      " 87   dx_304_ind_max             78743 non-null  int64 \n",
      " 88   dx_304_ind_sum             78743 non-null  int64 \n",
      " 89   dx_482_ind_max             78743 non-null  int64 \n",
      " 90   dx_482_ind_sum             78743 non-null  int64 \n",
      " 91   dx_150_ind_max             78743 non-null  int64 \n",
      " 92   dx_150_ind_sum             78743 non-null  int64 \n",
      " 93   dx_282_ind_max             78743 non-null  int64 \n",
      " 94   dx_282_ind_sum             78743 non-null  int64 \n",
      " 95   dx_332_ind_max             78743 non-null  int64 \n",
      " 96   dx_332_ind_sum             78743 non-null  int64 \n",
      " 97   dx_443_ind_max             78743 non-null  int64 \n",
      " 98   dx_443_ind_sum             78743 non-null  int64 \n",
      " 99   dx_719_ind_max             78743 non-null  int64 \n",
      " 100  dx_719_ind_sum             78743 non-null  int64 \n",
      " 101  dx_423_ind_max             78743 non-null  int64 \n",
      " 102  dx_423_ind_sum             78743 non-null  int64 \n",
      " 103  dx_281_ind_max             78743 non-null  int64 \n",
      " 104  dx_281_ind_sum             78743 non-null  int64 \n",
      " 105  dx_536_ind_max             78743 non-null  int64 \n",
      " 106  dx_536_ind_sum             78743 non-null  int64 \n",
      " 107  dx_368_ind_max             78743 non-null  int64 \n",
      " 108  dx_368_ind_sum             78743 non-null  int64 \n",
      " 109  dx_515_ind_max             78743 non-null  int64 \n",
      " 110  dx_515_ind_sum             78743 non-null  int64 \n",
      " 111  dx_595_ind_max             78743 non-null  int64 \n",
      " 112  dx_595_ind_sum             78743 non-null  int64 \n",
      " 113  dx_572_ind_max             78743 non-null  int64 \n",
      " 114  dx_572_ind_sum             78743 non-null  int64 \n",
      " 115  dx_681_ind_max             78743 non-null  int64 \n",
      " 116  dx_681_ind_sum             78743 non-null  int64 \n",
      " 117  dx_581_ind_max             78743 non-null  int64 \n",
      " 118  dx_581_ind_sum             78743 non-null  int64 \n",
      " 119  dx_537_ind_max             78743 non-null  int64 \n",
      " 120  dx_537_ind_sum             78743 non-null  int64 \n",
      " 121  dx_490_ind_max             78743 non-null  int64 \n",
      " 122  dx_490_ind_sum             78743 non-null  int64 \n",
      " 123  dx_583_ind_max             78743 non-null  int64 \n",
      " 124  dx_583_ind_sum             78743 non-null  int64 \n",
      " 125  dx_V46_ind_max             78743 non-null  int64 \n",
      " 126  dx_V46_ind_sum             78743 non-null  int64 \n",
      " 127  dx_519_ind_max             78743 non-null  int64 \n",
      " 128  dx_519_ind_sum             78743 non-null  int64 \n",
      " 129  dx_300_ind_max             78743 non-null  int64 \n",
      " 130  dx_300_ind_sum             78743 non-null  int64 \n",
      " 131  dx_567_ind_max             78743 non-null  int64 \n",
      " 132  dx_567_ind_sum             78743 non-null  int64 \n",
      " 133  dx_E92_ind_max             78743 non-null  int64 \n",
      " 134  dx_E92_ind_sum             78743 non-null  int64 \n",
      " 135  dx_V49_ind_max             78743 non-null  int64 \n",
      " 136  dx_V49_ind_sum             78743 non-null  int64 \n",
      " 137  dx_094_ind_max             78743 non-null  int64 \n",
      " 138  dx_094_ind_sum             78743 non-null  int64 \n",
      " 139  dx_514_ind_max             78743 non-null  int64 \n",
      " 140  dx_514_ind_sum             78743 non-null  int64 \n",
      " 141  dx_494_ind_max             78743 non-null  int64 \n",
      " 142  dx_494_ind_sum             78743 non-null  int64 \n",
      " 143  dx_042_ind_max             78743 non-null  int64 \n",
      " 144  dx_042_ind_sum             78743 non-null  int64 \n",
      " 145  dx_404_ind_max             78743 non-null  int64 \n",
      " 146  dx_404_ind_sum             78743 non-null  int64 \n",
      " 147  dx_346_ind_max             78743 non-null  int64 \n",
      " 148  dx_346_ind_sum             78743 non-null  int64 \n",
      " 149  dx_792_ind_max             78743 non-null  int64 \n",
      " 150  dx_792_ind_sum             78743 non-null  int64 \n",
      " 151  dx_398_ind_max             78743 non-null  int64 \n",
      " 152  dx_398_ind_sum             78743 non-null  int64 \n",
      " 153  dx_753_ind_max             78743 non-null  int64 \n",
      " 154  dx_753_ind_sum             78743 non-null  int64 \n",
      " 155  dx_577_ind_max             78743 non-null  int64 \n",
      " 156  dx_577_ind_sum             78743 non-null  int64 \n",
      " 157  dx_730_ind_max             78743 non-null  int64 \n",
      " 158  dx_730_ind_sum             78743 non-null  int64 \n",
      " 159  dx_444_ind_max             78743 non-null  int64 \n",
      " 160  dx_444_ind_sum             78743 non-null  int64 \n",
      " 161  dx_459_ind_max             78743 non-null  int64 \n",
      " 162  dx_459_ind_sum             78743 non-null  int64 \n",
      " 163  dx_790_ind_max             78743 non-null  int64 \n",
      " 164  dx_790_ind_sum             78743 non-null  int64 \n",
      " 165  dx_337_ind_max             78743 non-null  int64 \n",
      " 166  dx_337_ind_sum             78743 non-null  int64 \n",
      " 167  dx_397_ind_max             78743 non-null  int64 \n",
      " 168  dx_397_ind_sum             78743 non-null  int64 \n",
      " 169  dx_292_ind_max             78743 non-null  int64 \n",
      " 170  dx_292_ind_sum             78743 non-null  int64 \n",
      " 171  dx_V42_ind_max             78743 non-null  int64 \n",
      " 172  dx_V42_ind_sum             78743 non-null  int64 \n",
      " 173  dx_289_ind_max             78743 non-null  int64 \n",
      " 174  dx_289_ind_sum             78743 non-null  int64 \n",
      " 175  alcohol_history_ind        78743 non-null  int64 \n",
      " 176  obesity_history_ind        78743 non-null  int64 \n",
      " 177  mh_history_ind             78743 non-null  int64 \n",
      " 178  readmitted_ind             78743 non-null  int64 \n",
      " 179  encounter_ct               78743 non-null  int64 \n",
      " 180  mb_time_in_hospital        78743 non-null  int64 \n",
      " 181  mb_readmitted_lt30_ct      78743 non-null  int64 \n",
      " 182  mb_readmitted_gt30_ct      78743 non-null  int64 \n",
      " 183  mb_readmitted_no_ct        78743 non-null  int64 \n",
      " 184  mb_num_lab_procedures_ct   78743 non-null  int64 \n",
      " 185  mb_num_procedures_ct       78743 non-null  int64 \n",
      " 186  mb_num_medications_ct      78743 non-null  int64 \n",
      " 187  mb_number_outpatient_ct    78743 non-null  int64 \n",
      " 188  mb_number_emergency_ct     78743 non-null  int64 \n",
      " 189  mb_number_inpatient_ct     78743 non-null  int64 \n",
      " 190  mb_number_diagnoses_ct     78743 non-null  int64 \n",
      " 191  mb A1c gt 7 ct             78743 non-null  int64 \n",
      " 192  mb A1c gt 8 ct             78743 non-null  int64 \n",
      " 193  mb A1c Norm ct             78743 non-null  int64 \n",
      " 194  dummy                      78743 non-null  int64 \n",
      "dtypes: int64(166), object(29)\n",
      "memory usage: 117.7+ MB\n",
      "None\n"
     ]
    }
   ],
   "source": [
    "\n",
    "diabetes.drop(columns=drop, inplace=True)\n",
    "diabetes['dummy']=1\n",
    "diabetes.to_csv('p004_diabetes_MLprep.csv',index=False)\n",
    "print(diabetes.shape)\n",
    "print(diabetes.info())"
   ]
  },
  {
   "cell_type": "code",
   "execution_count": 34,
   "id": "5080adc6-d677-4576-a6ee-cb648a0965e0",
   "metadata": {
    "execution": {
     "iopub.execute_input": "2025-03-17T16:30:25.864946Z",
     "iopub.status.busy": "2025-03-17T16:30:25.864658Z",
     "iopub.status.idle": "2025-03-17T16:30:25.868888Z",
     "shell.execute_reply": "2025-03-17T16:30:25.868286Z",
     "shell.execute_reply.started": "2025-03-17T16:30:25.864928Z"
    }
   },
   "outputs": [],
   "source": [
    "\n",
    "drop=[ 'diag_1', 'diag_2', 'diag_3', 'diagnosis_tuple_freq'\n",
    ", 'diag_1_freq', 'diag_2_freq', 'diag_3_freq'\n",
    ", 'diagnosis_1', 'diagnosis_2', 'diagnosis_3'\n",
    ",  'diag_1_sort' ,'diag_2_sort' ,'diag_3_sort'\n",
    ", 'diagnosis_1_sort', 'diagnosis_2_sort', 'diagnosis_3_sort'\n",
    ", 'diag_1_sort_freq', 'diag_2_sort_freq', 'diag_3_sort_freq']"
   ]
  },
  {
   "cell_type": "code",
   "execution_count": 35,
   "id": "cf4bb55c-9fca-47ab-b85a-34859bf9997f",
   "metadata": {
    "execution": {
     "iopub.execute_input": "2025-03-17T16:30:25.893688Z",
     "iopub.status.busy": "2025-03-17T16:30:25.893363Z",
     "iopub.status.idle": "2025-03-17T16:30:26.448802Z",
     "shell.execute_reply": "2025-03-17T16:30:26.448051Z",
     "shell.execute_reply.started": "2025-03-17T16:30:25.893659Z"
    }
   },
   "outputs": [
    {
     "name": "stdout",
     "output_type": "stream",
     "text": [
      "(78743, 176)\n",
      "<class 'pandas.core.frame.DataFrame'>\n",
      "Index: 78743 entries, 1 to 101765\n",
      "Data columns (total 176 columns):\n",
      " #    Column                     Non-Null Count  Dtype \n",
      "---   ------                     --------------  ----- \n",
      " 0    encounter_id               78743 non-null  int64 \n",
      " 1    patient_nbr                78743 non-null  int64 \n",
      " 2    gender                     78743 non-null  object\n",
      " 3    age                        78743 non-null  object\n",
      " 4    time_in_hospital           78743 non-null  int64 \n",
      " 5    num_lab_procedures         78743 non-null  int64 \n",
      " 6    num_procedures             78743 non-null  int64 \n",
      " 7    num_medications            78743 non-null  int64 \n",
      " 8    number_outpatient          78743 non-null  int64 \n",
      " 9    number_emergency           78743 non-null  int64 \n",
      " 10   number_inpatient           78743 non-null  int64 \n",
      " 11   number_diagnoses           78743 non-null  int64 \n",
      " 12   A1Cresult                  14086 non-null  object\n",
      " 13   metformin                  78743 non-null  object\n",
      " 14   glimepiride                78743 non-null  object\n",
      " 15   glipizide                  78743 non-null  object\n",
      " 16   glyburide                  78743 non-null  object\n",
      " 17   pioglitazone               78743 non-null  object\n",
      " 18   rosiglitazone              78743 non-null  object\n",
      " 19   insulin                    78743 non-null  object\n",
      " 20   change                     78743 non-null  object\n",
      " 21   diabetesMed                78743 non-null  object\n",
      " 22   readmitted                 78743 non-null  object\n",
      " 23   admission_type             78743 non-null  object\n",
      " 24   discharge_disposition      78743 non-null  object\n",
      " 25   admission_source           78743 non-null  object\n",
      " 26   MP_DM_payer_ind            78743 non-null  int64 \n",
      " 27   mb_admission_grp_1_ct      78743 non-null  int64 \n",
      " 28   mb_admission_grp_2_ct      78743 non-null  int64 \n",
      " 29   mb_discharge_grp_1_ct      78743 non-null  int64 \n",
      " 30   mb_discharge_grp_2_ct      78743 non-null  int64 \n",
      " 31   mb_admission_type_ct       78743 non-null  int64 \n",
      " 32   distinct_diag_count        78743 non-null  int64 \n",
      " 33   diag_1_428_ind             78743 non-null  int64 \n",
      " 34   diag_1_491_ind             78743 non-null  int64 \n",
      " 35   diag_1_493_ind             78743 non-null  int64 \n",
      " 36   diag_2_403_ind             78743 non-null  int64 \n",
      " 37   diag_2_707_ind             78743 non-null  int64 \n",
      " 38   diag_2_585_ind             78743 non-null  int64 \n",
      " 39   diag_2_491_ind             78743 non-null  int64 \n",
      " 40   diag_3_403_ind             78743 non-null  int64 \n",
      " 41   diag_3_585_ind             78743 non-null  int64 \n",
      " 42   diag_3_707_ind             78743 non-null  int64 \n",
      " 43   diag_1_driver_ind          78743 non-null  int64 \n",
      " 44   diag_2_driver_ind          78743 non-null  int64 \n",
      " 45   diag_3_driver_ind          78743 non-null  int64 \n",
      " 46   diagnosis_tuple            78743 non-null  object\n",
      " 47   high propensity tuple ind  78743 non-null  int64 \n",
      " 48   dx_428_ind_max             78743 non-null  int64 \n",
      " 49   dx_428_ind_sum             78743 non-null  int64 \n",
      " 50   dx_403_ind_max             78743 non-null  int64 \n",
      " 51   dx_403_ind_sum             78743 non-null  int64 \n",
      " 52   dx_707_ind_max             78743 non-null  int64 \n",
      " 53   dx_707_ind_sum             78743 non-null  int64 \n",
      " 54   dx_585_ind_max             78743 non-null  int64 \n",
      " 55   dx_585_ind_sum             78743 non-null  int64 \n",
      " 56   dx_491_ind_max             78743 non-null  int64 \n",
      " 57   dx_491_ind_sum             78743 non-null  int64 \n",
      " 58   dx_396_ind_max             78743 non-null  int64 \n",
      " 59   dx_396_ind_sum             78743 non-null  int64 \n",
      " 60   dx_440_ind_max             78743 non-null  int64 \n",
      " 61   dx_440_ind_sum             78743 non-null  int64 \n",
      " 62   dx_453_ind_max             78743 non-null  int64 \n",
      " 63   dx_453_ind_sum             78743 non-null  int64 \n",
      " 64   dx_571_ind_max             78743 non-null  int64 \n",
      " 65   dx_571_ind_sum             78743 non-null  int64 \n",
      " 66   dx_284_ind_max             78743 non-null  int64 \n",
      " 67   dx_284_ind_sum             78743 non-null  int64 \n",
      " 68   dx_304_ind_max             78743 non-null  int64 \n",
      " 69   dx_304_ind_sum             78743 non-null  int64 \n",
      " 70   dx_482_ind_max             78743 non-null  int64 \n",
      " 71   dx_482_ind_sum             78743 non-null  int64 \n",
      " 72   dx_150_ind_max             78743 non-null  int64 \n",
      " 73   dx_150_ind_sum             78743 non-null  int64 \n",
      " 74   dx_282_ind_max             78743 non-null  int64 \n",
      " 75   dx_282_ind_sum             78743 non-null  int64 \n",
      " 76   dx_332_ind_max             78743 non-null  int64 \n",
      " 77   dx_332_ind_sum             78743 non-null  int64 \n",
      " 78   dx_443_ind_max             78743 non-null  int64 \n",
      " 79   dx_443_ind_sum             78743 non-null  int64 \n",
      " 80   dx_719_ind_max             78743 non-null  int64 \n",
      " 81   dx_719_ind_sum             78743 non-null  int64 \n",
      " 82   dx_423_ind_max             78743 non-null  int64 \n",
      " 83   dx_423_ind_sum             78743 non-null  int64 \n",
      " 84   dx_281_ind_max             78743 non-null  int64 \n",
      " 85   dx_281_ind_sum             78743 non-null  int64 \n",
      " 86   dx_536_ind_max             78743 non-null  int64 \n",
      " 87   dx_536_ind_sum             78743 non-null  int64 \n",
      " 88   dx_368_ind_max             78743 non-null  int64 \n",
      " 89   dx_368_ind_sum             78743 non-null  int64 \n",
      " 90   dx_515_ind_max             78743 non-null  int64 \n",
      " 91   dx_515_ind_sum             78743 non-null  int64 \n",
      " 92   dx_595_ind_max             78743 non-null  int64 \n",
      " 93   dx_595_ind_sum             78743 non-null  int64 \n",
      " 94   dx_572_ind_max             78743 non-null  int64 \n",
      " 95   dx_572_ind_sum             78743 non-null  int64 \n",
      " 96   dx_681_ind_max             78743 non-null  int64 \n",
      " 97   dx_681_ind_sum             78743 non-null  int64 \n",
      " 98   dx_581_ind_max             78743 non-null  int64 \n",
      " 99   dx_581_ind_sum             78743 non-null  int64 \n",
      " 100  dx_537_ind_max             78743 non-null  int64 \n",
      " 101  dx_537_ind_sum             78743 non-null  int64 \n",
      " 102  dx_490_ind_max             78743 non-null  int64 \n",
      " 103  dx_490_ind_sum             78743 non-null  int64 \n",
      " 104  dx_583_ind_max             78743 non-null  int64 \n",
      " 105  dx_583_ind_sum             78743 non-null  int64 \n",
      " 106  dx_V46_ind_max             78743 non-null  int64 \n",
      " 107  dx_V46_ind_sum             78743 non-null  int64 \n",
      " 108  dx_519_ind_max             78743 non-null  int64 \n",
      " 109  dx_519_ind_sum             78743 non-null  int64 \n",
      " 110  dx_300_ind_max             78743 non-null  int64 \n",
      " 111  dx_300_ind_sum             78743 non-null  int64 \n",
      " 112  dx_567_ind_max             78743 non-null  int64 \n",
      " 113  dx_567_ind_sum             78743 non-null  int64 \n",
      " 114  dx_E92_ind_max             78743 non-null  int64 \n",
      " 115  dx_E92_ind_sum             78743 non-null  int64 \n",
      " 116  dx_V49_ind_max             78743 non-null  int64 \n",
      " 117  dx_V49_ind_sum             78743 non-null  int64 \n",
      " 118  dx_094_ind_max             78743 non-null  int64 \n",
      " 119  dx_094_ind_sum             78743 non-null  int64 \n",
      " 120  dx_514_ind_max             78743 non-null  int64 \n",
      " 121  dx_514_ind_sum             78743 non-null  int64 \n",
      " 122  dx_494_ind_max             78743 non-null  int64 \n",
      " 123  dx_494_ind_sum             78743 non-null  int64 \n",
      " 124  dx_042_ind_max             78743 non-null  int64 \n",
      " 125  dx_042_ind_sum             78743 non-null  int64 \n",
      " 126  dx_404_ind_max             78743 non-null  int64 \n",
      " 127  dx_404_ind_sum             78743 non-null  int64 \n",
      " 128  dx_346_ind_max             78743 non-null  int64 \n",
      " 129  dx_346_ind_sum             78743 non-null  int64 \n",
      " 130  dx_792_ind_max             78743 non-null  int64 \n",
      " 131  dx_792_ind_sum             78743 non-null  int64 \n",
      " 132  dx_398_ind_max             78743 non-null  int64 \n",
      " 133  dx_398_ind_sum             78743 non-null  int64 \n",
      " 134  dx_753_ind_max             78743 non-null  int64 \n",
      " 135  dx_753_ind_sum             78743 non-null  int64 \n",
      " 136  dx_577_ind_max             78743 non-null  int64 \n",
      " 137  dx_577_ind_sum             78743 non-null  int64 \n",
      " 138  dx_730_ind_max             78743 non-null  int64 \n",
      " 139  dx_730_ind_sum             78743 non-null  int64 \n",
      " 140  dx_444_ind_max             78743 non-null  int64 \n",
      " 141  dx_444_ind_sum             78743 non-null  int64 \n",
      " 142  dx_459_ind_max             78743 non-null  int64 \n",
      " 143  dx_459_ind_sum             78743 non-null  int64 \n",
      " 144  dx_790_ind_max             78743 non-null  int64 \n",
      " 145  dx_790_ind_sum             78743 non-null  int64 \n",
      " 146  dx_337_ind_max             78743 non-null  int64 \n",
      " 147  dx_337_ind_sum             78743 non-null  int64 \n",
      " 148  dx_397_ind_max             78743 non-null  int64 \n",
      " 149  dx_397_ind_sum             78743 non-null  int64 \n",
      " 150  dx_292_ind_max             78743 non-null  int64 \n",
      " 151  dx_292_ind_sum             78743 non-null  int64 \n",
      " 152  dx_V42_ind_max             78743 non-null  int64 \n",
      " 153  dx_V42_ind_sum             78743 non-null  int64 \n",
      " 154  dx_289_ind_max             78743 non-null  int64 \n",
      " 155  dx_289_ind_sum             78743 non-null  int64 \n",
      " 156  alcohol_history_ind        78743 non-null  int64 \n",
      " 157  obesity_history_ind        78743 non-null  int64 \n",
      " 158  mh_history_ind             78743 non-null  int64 \n",
      " 159  readmitted_ind             78743 non-null  int64 \n",
      " 160  encounter_ct               78743 non-null  int64 \n",
      " 161  mb_time_in_hospital        78743 non-null  int64 \n",
      " 162  mb_readmitted_lt30_ct      78743 non-null  int64 \n",
      " 163  mb_readmitted_gt30_ct      78743 non-null  int64 \n",
      " 164  mb_readmitted_no_ct        78743 non-null  int64 \n",
      " 165  mb_num_lab_procedures_ct   78743 non-null  int64 \n",
      " 166  mb_num_procedures_ct       78743 non-null  int64 \n",
      " 167  mb_num_medications_ct      78743 non-null  int64 \n",
      " 168  mb_number_outpatient_ct    78743 non-null  int64 \n",
      " 169  mb_number_emergency_ct     78743 non-null  int64 \n",
      " 170  mb_number_inpatient_ct     78743 non-null  int64 \n",
      " 171  mb_number_diagnoses_ct     78743 non-null  int64 \n",
      " 172  mb A1c gt 7 ct             78743 non-null  int64 \n",
      " 173  mb A1c gt 8 ct             78743 non-null  int64 \n",
      " 174  mb A1c Norm ct             78743 non-null  int64 \n",
      " 175  dummy                      78743 non-null  int64 \n",
      "dtypes: int64(159), object(17)\n",
      "memory usage: 106.3+ MB\n",
      "None\n"
     ]
    }
   ],
   "source": [
    "\n",
    "diabetes.drop(columns=drop, inplace=True)\n",
    "diabetes.to_pickle(\"p004_diabetes_MLprep.pkl\")\n",
    "print(diabetes.shape)\n",
    "print(diabetes.info())"
   ]
  },
  {
   "cell_type": "code",
   "execution_count": null,
   "id": "944770a1-81e4-4a41-97c0-01462b84e3ba",
   "metadata": {},
   "outputs": [],
   "source": []
  }
 ],
 "metadata": {
  "kernelspec": {
   "display_name": "anaconda-2024.02-py310",
   "language": "python",
   "name": "conda-env-anaconda-2024.02-py310-py"
  },
  "language_info": {
   "codemirror_mode": {
    "name": "ipython",
    "version": 3
   },
   "file_extension": ".py",
   "mimetype": "text/x-python",
   "name": "python",
   "nbconvert_exporter": "python",
   "pygments_lexer": "ipython3",
   "version": "3.10.14"
  }
 },
 "nbformat": 4,
 "nbformat_minor": 5
}
