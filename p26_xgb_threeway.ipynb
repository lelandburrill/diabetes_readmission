{
 "cells": [
  {
   "cell_type": "code",
   "execution_count": 1,
   "id": "6679a76b-efbf-490a-b56c-0b96a73dbcc0",
   "metadata": {},
   "outputs": [
    {
     "name": "stdout",
     "output_type": "stream",
     "text": [
      "12\n",
      "Available memory before training: 3.03 GB\n"
     ]
    }
   ],
   "source": [
    "\n",
    "import multiprocessing\n",
    "print(multiprocessing.cpu_count())\n",
    "\n",
    "import psutil\n",
    "print(f\"Available memory before training: {psutil.virtual_memory().available / 1e9:.2f} GB\")"
   ]
  },
  {
   "cell_type": "code",
   "execution_count": 2,
   "id": "abde9426-53db-4318-ac16-0d335529b413",
   "metadata": {},
   "outputs": [],
   "source": [
    "\n",
    "import numpy as np\n",
    "import pandas as pd\n",
    "from pandas.api.types import is_numeric_dtype\n",
    "pd.set_option('display.max_info_columns', 200) #caps at 200, use None to show all\n",
    "pd.set_option('display.max_rows', 200)\n",
    "\n",
    "import seaborn as sns\n",
    "import matplotlib.pyplot as plt\n",
    "\n",
    "import warnings\n",
    "warnings.simplefilter(action='ignore', category=FutureWarning)\n",
    "\n",
    "import time\n",
    "import joblib\n",
    "import pickle"
   ]
  },
  {
   "cell_type": "code",
   "execution_count": 3,
   "id": "2f66b0fd-4848-46d7-9fa1-6ddecd019450",
   "metadata": {},
   "outputs": [
    {
     "name": "stdout",
     "output_type": "stream",
     "text": [
      "(78743, 176)\n"
     ]
    }
   ],
   "source": [
    "\n",
    "token = 'p26'\n",
    "X_with_proba = pd.read_pickle('p24_X_with_proba.pkl')\n",
    "    \n",
    "print(X_with_proba.shape) "
   ]
  },
  {
   "cell_type": "code",
   "execution_count": 4,
   "id": "5a1bfcd4-9df9-4ea2-9165-3fa861386ecd",
   "metadata": {},
   "outputs": [],
   "source": [
    "\n",
    "from sklearn.compose import ColumnTransformer\n",
    "from sklearn.preprocessing import MinMaxScaler, OneHotEncoder, LabelEncoder\n",
    "from sklearn.pipeline import Pipeline\n",
    "from sklearn.linear_model import LogisticRegressionCV, LogisticRegression\n",
    "from sklearn.model_selection import train_test_split, RandomizedSearchCV, cross_val_score\n",
    "from sklearn.feature_selection import SelectFromModel\n",
    "from sklearn.metrics import accuracy_score, classification_report\n",
    "from sklearn.metrics import ConfusionMatrixDisplay, confusion_matrix, f1_score, log_loss, roc_auc_score\n",
    "import xgboost"
   ]
  },
  {
   "cell_type": "code",
   "execution_count": 5,
   "id": "ee162241-feaf-45ec-aacc-c6338b620b23",
   "metadata": {},
   "outputs": [
    {
     "name": "stdout",
     "output_type": "stream",
     "text": [
      "{'<30': 0, '>30': 1, 'NO': 2}\n"
     ]
    }
   ],
   "source": [
    "\n",
    "X = X_with_proba.drop(columns=['readmitted'], axis=1)\n",
    "y_prep = X_with_proba['readmitted']\n",
    "\n",
    "le = LabelEncoder()\n",
    "y = le.fit_transform(y_prep)  # where y_3class = study['readmitted']\n",
    "\n",
    "# Save this for later\n",
    "label_mapping = dict(zip(le.classes_, le.transform(le.classes_)))\n",
    "print(label_mapping)\n",
    "\n",
    "del X_with_proba, y_prep"
   ]
  },
  {
   "cell_type": "code",
   "execution_count": 6,
   "id": "865367bf-04e7-4f91-bd0b-e0f68f27d54d",
   "metadata": {},
   "outputs": [],
   "source": [
    "\n",
    "# Define features to INCLUDE for training\n",
    "exclude_features = ['patient_nbr', 'encounter_id', 'diagnosis_tuple', 'dummy'] \n",
    "numeric_features = [col for col in X.columns if col not in exclude_features and is_numeric_dtype(X[col])]\n",
    "object_features =  [col for col in X.columns if col not in exclude_features and X[col].dtype == 'object']\n",
    "\n",
    "X_train, X_test, y_train, y_test = train_test_split(X, y, test_size=0.2, random_state=26)\n",
    "\n",
    "preprocessor = ColumnTransformer(\n",
    "    transformers=[\n",
    "        ('num', MinMaxScaler(), numeric_features),\n",
    "        ('cat', OneHotEncoder(drop='first', sparse_output=True, handle_unknown='ignore'), object_features)\n",
    "    ])"
   ]
  },
  {
   "cell_type": "code",
   "execution_count": 7,
   "id": "533bc043-6ce0-480f-89c2-0d344139d67a",
   "metadata": {},
   "outputs": [
    {
     "name": "stdout",
     "output_type": "stream",
     "text": [
      "Fitting 5 folds for each of 75 candidates, totalling 375 fits\n",
      "Model saved as p26_xgb_tune_3way.pkl\n",
      "Best Parameters: {'subsample': 0.625, 'reg_lambda': 0.001, 'reg_alpha': 10.0, 'n_estimators': 300, 'min_child_weight': 7, 'max_depth': 3, 'learning_rate': 0.046415888336127774, 'gamma': 0.125, 'colsample_bytree': 0.875}\n",
      "CPU times: total: 1min 21s\n",
      "Wall time: 30min 12s\n"
     ]
    }
   ],
   "source": [
    "\n",
    "%%time\n",
    "param_dist = {\n",
    "    'n_estimators': [50, 100, 200, 300, 500],\n",
    "    'learning_rate': np.logspace(-3, 0, 10),\n",
    "    'max_depth': [3, 5, 7, 10],\n",
    "    'min_child_weight': [1, 3, 5, 7],\n",
    "    'gamma': np.linspace(0, 0.5, 5),\n",
    "    'subsample': np.linspace(0.5, 1, 5),\n",
    "    'colsample_bytree': np.linspace(0.5, 1, 5),\n",
    "    'reg_lambda': np.logspace(-3, 3, 10),\n",
    "    'reg_alpha': np.logspace(-3, 3, 10)\n",
    "}\n",
    "\n",
    "xgb_clf = xgboost.XGBClassifier(\n",
    "    objective='multi:softprob',\n",
    "    num_class=3,\n",
    "    eval_metric='mlogloss',\n",
    "    random_state=26\n",
    ")\n",
    "\n",
    "random_search_xgb_3way = RandomizedSearchCV(\n",
    "    estimator=xgb_clf,\n",
    "    param_distributions=param_dist,\n",
    "    n_iter=75,\n",
    "    scoring='f1_macro',  # or 'accuracy', 'neg_log_loss'\n",
    "    cv=5,\n",
    "    verbose=1,\n",
    "    random_state=26,\n",
    "    n_jobs=-1\n",
    ")\n",
    "\n",
    "xgb_tune_3way = Pipeline(steps=[\n",
    "    ('preprocessor', preprocessor), \n",
    "    ('model', random_search_xgb_3way )  \n",
    "])\n",
    "\n",
    "xgb_tune_3way.fit(X_train, y_train)\n",
    "\n",
    "filename=f\"{token}_xgb_tune_3way.pkl\"\n",
    "with open(filename, \"wb\") as file:\n",
    "    pickle.dump(xgb_tune_3way, file)\n",
    "print(f\"Model saved as {filename}\")\n",
    "\n",
    "best_params = xgb_tune_3way['model'].best_params_\n",
    "print(\"Best Parameters:\", best_params)"
   ]
  },
  {
   "cell_type": "code",
   "execution_count": 8,
   "id": "b120764b-a6d9-4223-8a64-c894348cbd73",
   "metadata": {},
   "outputs": [
    {
     "name": "stdout",
     "output_type": "stream",
     "text": [
      "❌ Failed Fits:\n",
      "Empty DataFrame\n",
      "Columns: [params]\n",
      "Index: []\n",
      "Total failed fits: 0\n",
      "🏆 Top 10 Hyperparameter Sets:\n",
      "                                              params  mean_test_score  \\\n",
      "0  {'subsample': 0.625, 'reg_lambda': 0.001, 'reg...         0.881318   \n",
      "1  {'subsample': 0.625, 'reg_lambda': 2.154434690...         0.881096   \n",
      "2  {'subsample': 0.5, 'reg_lambda': 46.4158883361...         0.879853   \n",
      "3  {'subsample': 0.625, 'reg_lambda': 0.004641588...         0.879684   \n",
      "4  {'subsample': 1.0, 'reg_lambda': 10.0, 'reg_al...         0.879466   \n",
      "5  {'subsample': 0.625, 'reg_lambda': 2.154434690...         0.879323   \n",
      "6  {'subsample': 1.0, 'reg_lambda': 46.4158883361...         0.878703   \n",
      "7  {'subsample': 0.875, 'reg_lambda': 0.001, 'reg...         0.878703   \n",
      "8  {'subsample': 0.5, 'reg_lambda': 215.443469003...         0.878328   \n",
      "9  {'subsample': 1.0, 'reg_lambda': 215.443469003...         0.878069   \n",
      "\n",
      "   std_test_score  rank_test_score  \n",
      "0        0.002736                1  \n",
      "1        0.002717                2  \n",
      "2        0.002943                3  \n",
      "3        0.002656                4  \n",
      "4        0.002952                5  \n",
      "5        0.003774                6  \n",
      "6        0.002576                7  \n",
      "7        0.002716                8  \n",
      "8        0.002832                9  \n",
      "9        0.003127               10  \n"
     ]
    }
   ],
   "source": [
    "\n",
    " # Extract cv_results_ safely\n",
    "cv_results_df = pd.DataFrame(xgb_tune_3way['model'].cv_results_)\n",
    "\n",
    "# Identify failed fits (mean_test_score is NaN)\n",
    "failed_fits = cv_results_df[cv_results_df['mean_test_score'].isna()]\n",
    "print(\"❌ Failed Fits:\")\n",
    "print(failed_fits[['params']])\n",
    "print(f\"Total failed fits: {len(failed_fits)}\")\n",
    "\n",
    "# Create leaderboard from successful fits\n",
    "successful_fits = cv_results_df[cv_results_df['mean_test_score'].notna()]\n",
    "\n",
    "leaderboard = successful_fits[\n",
    "    ['params', 'mean_test_score', 'std_test_score', 'rank_test_score']\n",
    "].sort_values(by='rank_test_score').reset_index(drop=True)\n",
    "\n",
    "# Export leaderboard\n",
    "leaderboard.to_csv(f'{token}_xgb_tune_3way_leaderboard.csv', index=False)\n",
    "\n",
    "# Show top 10\n",
    "print(\"🏆 Top 10 Hyperparameter Sets:\")\n",
    "print(leaderboard.head(10))\n"
   ]
  },
  {
   "cell_type": "code",
   "execution_count": 9,
   "id": "8f507d79-d9d9-4036-a9b6-e8edc46655e8",
   "metadata": {},
   "outputs": [
    {
     "name": "stdout",
     "output_type": "stream",
     "text": [
      "Model saved as p26_xgb_3way.pkl\n",
      "CPU times: total: 1min 6s\n",
      "Wall time: 11.7 s\n"
     ]
    }
   ],
   "source": [
    "\n",
    "%%time\n",
    "xgb_3way = Pipeline(steps=[\n",
    "    ('preprocessor', preprocessor), \n",
    "    ('model',xgboost.XGBClassifier(objective='multi:softprob'\n",
    "                                   , **best_params\n",
    "                                   , num_class=3\n",
    "                                   , eval_metric='mlogloss'\n",
    "                                   , random_state=27\n",
    "                                   , n_jobs=-1))\n",
    "])\n",
    "\n",
    "X_train, X_test, y_train, y_test = train_test_split(X, y, test_size=0.2, random_state=27)\n",
    "\n",
    "xgb_3way.fit(X_train, y_train)\n",
    "\n",
    "filename=f\"{token}_xgb_3way.pkl\"\n",
    "with open(filename, \"wb\") as file:\n",
    "    pickle.dump(xgb_3way, file)\n",
    "print(f\"Model saved as {filename}\")\n"
   ]
  },
  {
   "cell_type": "code",
   "execution_count": 10,
   "id": "b5753d0e-dfef-49d9-a30b-247a0cb4420e",
   "metadata": {},
   "outputs": [
    {
     "name": "stderr",
     "output_type": "stream",
     "text": [
      "C:\\Users\\lelan\\anaconda3\\Lib\\site-packages\\sklearn\\preprocessing\\_encoders.py:242: UserWarning: Found unknown categories in columns [14] during transform. These unknown categories will be encoded as all zeros\n",
      "  warnings.warn(\n",
      "C:\\Users\\lelan\\anaconda3\\Lib\\site-packages\\sklearn\\preprocessing\\_encoders.py:242: UserWarning: Found unknown categories in columns [14] during transform. These unknown categories will be encoded as all zeros\n",
      "  warnings.warn(\n"
     ]
    },
    {
     "name": "stdout",
     "output_type": "stream",
     "text": [
      "Accuracy: 0.9264080259064068\n"
     ]
    },
    {
     "data": {
      "image/png": "[encoded data removed]",
      "text/plain": [
       "<Figure size 640x480 with 2 Axes>"
      ]
     },
     "metadata": {},
     "output_type": "display_data"
    },
    {
     "name": "stdout",
     "output_type": "stream",
     "text": [
      "Classification Report:\n",
      "              precision    recall  f1-score   support\n",
      "\n",
      "         <30       0.81      0.70      0.75      1711\n",
      "         >30       0.88      0.92      0.90      5537\n",
      "          NO       0.98      0.97      0.98      8501\n",
      "\n",
      "    accuracy                           0.93     15749\n",
      "   macro avg       0.89      0.87      0.88     15749\n",
      "weighted avg       0.93      0.93      0.93     15749\n",
      "\n",
      "F1 Macro: 0.8767753309469216\n",
      "F1 Weighted: 0.9254481923984961\n",
      "Log Loss: 0.14979819390652843\n",
      "Multiclass ROC AUC (macro average): 0.9889574532440024\n"
     ]
    }
   ],
   "source": [
    "\n",
    "# Predict class labels\n",
    "y_pred = xgb_3way.predict(X_test)\n",
    "\n",
    "# Predict class probabilities\n",
    "y_proba = xgb_3way.predict_proba(X_test)\n",
    "\n",
    "# 1. Accuracy\n",
    "accuracy = accuracy_score(y_test, y_pred)\n",
    "print(\"Accuracy:\", accuracy)\n",
    "\n",
    "# 2. Confusion Matrix\n",
    "cm = confusion_matrix(y_test, y_pred)\n",
    "disp = ConfusionMatrixDisplay(confusion_matrix=cm, display_labels=le.classes_)\n",
    "disp.plot(cmap='Blues')\n",
    "plt.title(\"Confusion Matrix\")\n",
    "plt.show()\n",
    "\n",
    "# 3. Classification Report\n",
    "print(\"Classification Report:\")\n",
    "print(classification_report(y_test, y_pred, target_names=le.classes_))\n",
    "\n",
    "# 4. F1 Scores\n",
    "f1_macro = f1_score(y_test, y_pred, average='macro')\n",
    "f1_weighted = f1_score(y_test, y_pred, average='weighted')\n",
    "print(\"F1 Macro:\", f1_macro)\n",
    "print(\"F1 Weighted:\", f1_weighted)\n",
    "\n",
    "# 5. Log Loss\n",
    "logloss = log_loss(y_test, y_proba)\n",
    "print(\"Log Loss:\", logloss)\n",
    "\n",
    "# 6. Multiclass ROC AUC (optional)\n",
    "roc_auc = roc_auc_score(y_test, y_proba, multi_class='ovr', average='macro')\n",
    "print(\"Multiclass ROC AUC (macro average):\", roc_auc)\n"
   ]
  },
  {
   "cell_type": "code",
   "execution_count": 11,
   "id": "23e75718-ee09-4706-bf23-8cc2b64c5ef8",
   "metadata": {},
   "outputs": [
    {
     "name": "stdout",
     "output_type": "stream",
     "text": [
      "                                               Feature  Importance\n",
      "155                                      predict_proba    0.282123\n",
      "143                              mb_readmitted_gt30_ct    0.198599\n",
      "142                              mb_readmitted_lt30_ct    0.178969\n",
      "144                                mb_readmitted_no_ct    0.169856\n",
      "140                                       encounter_ct    0.041005\n",
      "14                                 distinct_diag_count    0.011073\n",
      "6                                     number_inpatient    0.010851\n",
      "150                             mb_number_inpatient_ct    0.006809\n",
      "151                             mb_number_diagnoses_ct    0.004946\n",
      "202  discharge_disposition_Discharged/transferred t...    0.002741\n"
     ]
    }
   ],
   "source": [
    "\n",
    "# Step 1: Get the trained XGBoost model from your pipeline\n",
    "model = xgb_3way.named_steps['model'].best_estimator_ if hasattr(xgb_3way.named_steps['model'], 'best_estimator_') else xgb_3way.named_steps['model']\n",
    "\n",
    "# Step 2: Get the preprocessor\n",
    "preprocessor = xgb_3way.named_steps['preprocessor']\n",
    "\n",
    "# Step 3: Get feature names from numeric and categorical transformers\n",
    "numeric_features = preprocessor.transformers_[0][2]\n",
    "categorical_features = preprocessor.transformers_[1][2]\n",
    "\n",
    "# Get encoded feature names from OneHotEncoder\n",
    "cat_encoder = preprocessor.named_transformers_['cat']\n",
    "cat_feature_names = cat_encoder.get_feature_names_out(categorical_features)\n",
    "\n",
    "# Combine all feature names\n",
    "feature_names = numeric_features + list(cat_feature_names)\n",
    "\n",
    "# Step 4: Get feature importances\n",
    "importances = model.feature_importances_\n",
    "\n",
    "# Step 5: Create a DataFrame\n",
    "importance_df = pd.DataFrame({\n",
    "    'Feature': feature_names,\n",
    "    'Importance': importances\n",
    "}).sort_values(by='Importance', ascending=False)\n",
    "\n",
    "# Step 6: Save to CSV for Excel\n",
    "importance_df.to_csv(f\"{token}_xgb_3way_feature_importance.csv\", index=False)\n",
    "\n",
    "# Optional: Preview the top features\n",
    "print(importance_df.head(10))\n"
   ]
  },
  {
   "cell_type": "code",
   "execution_count": null,
   "id": "efc0487d-977e-469a-a0f9-c465d3b27e70",
   "metadata": {},
   "outputs": [],
   "source": []
  }
 ],
 "metadata": {
  "kernelspec": {
   "display_name": "Python [conda env:base] *",
   "language": "python",
   "name": "conda-base-py"
  },
  "language_info": {
   "codemirror_mode": {
    "name": "ipython",
    "version": 3
   },
   "file_extension": ".py",
   "mimetype": "text/x-python",
   "name": "python",
   "nbconvert_exporter": "python",
   "pygments_lexer": "ipython3",
   "version": "3.12.7"
  }
 },
 "nbformat": 4,
 "nbformat_minor": 5
}
